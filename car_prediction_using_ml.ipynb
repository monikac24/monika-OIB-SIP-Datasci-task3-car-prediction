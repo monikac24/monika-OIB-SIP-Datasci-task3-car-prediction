{
  "nbformat": 4,
  "nbformat_minor": 0,
  "metadata": {
    "colab": {
      "provenance": []
    },
    "kernelspec": {
      "name": "python3",
      "display_name": "Python 3"
    },
    "language_info": {
      "name": "python"
    }
  },
  "cells": [
    {
      "cell_type": "markdown",
      "source": [
        "Task: ***Car Prediction Using Machine Learning***\n",
        "\n"
      ],
      "metadata": {
        "id": "UDibBwoOk5Kh"
      }
    },
    {
      "cell_type": "markdown",
      "source": [
        "# Name : Monika Choudhary\n",
       
      ],
      "metadata": {
        "id": "xBrdmycl_aH2"
      }
    },
    {
      "cell_type": "markdown",
      "source": [],
      "metadata": {
        "id": "sfmG3bzE_SRL"
      }
    },
    {
      "cell_type": "markdown",
      "source": [
        "Importing the Dependencies\n"
      ],
      "metadata": {
        "id": "ENU6pTu3lyxJ"
      }
    },
    {
      "cell_type": "code",
      "source": [
        "import pandas as pd\n",
        "import matplotlib.pyplot as plt\n",
        "import seaborn as sns\n",
        "from sklearn.model_selection import train_test_split\n",
        "from sklearn.linear_model import LinearRegression\n",
        "from sklearn.linear_model import Lasso\n",
        "from sklearn import metrics\n"
      ],
      "metadata": {
        "id": "tHdPq1Zal9nL"
      },
      "execution_count": null,
      "outputs": []
    },
    {
      "cell_type": "markdown",
      "source": [],
      "metadata": {
        "id": "WTy2dKlX_RRI"
      }
    },
    {
      "cell_type": "markdown",
      "source": [
        "Data Collection and Processing"
      ],
      "metadata": {
        "id": "8-GMPPZ1oV5d"
      }
    },
    {
      "cell_type": "code",
      "source": [
        "#loading the data\n",
        "car_dataset = pd.read_csv(\"/content/car data.csv\")"
      ],
      "metadata": {
        "id": "fwJ9ShjKocuD"
      },
      "execution_count": 3,
      "outputs": []
    },
    {
      "cell_type": "code",
      "source": [
        "# checking first 5 rows of data\n",
        "car_dataset.head()"
      ],
      "metadata": {
        "colab": {
          "base_uri": "https://localhost:8080/",
          "height": 206
        },
        "id": "6xQMH5Z3pFoe",
        "outputId": "2410e428-7b66-44a9-8f75-60beee7b0c98"
      },
      "execution_count": 4,
      "outputs": [
        {
          "output_type": "execute_result",
          "data": {
            "text/plain": [
              "  Car_Name  Year  Selling_Price  Present_Price  Driven_kms Fuel_Type  \\\n",
              "0     ritz  2014           3.35           5.59       27000    Petrol   \n",
              "1      sx4  2013           4.75           9.54       43000    Diesel   \n",
              "2     ciaz  2017           7.25           9.85        6900    Petrol   \n",
              "3  wagon r  2011           2.85           4.15        5200    Petrol   \n",
              "4    swift  2014           4.60           6.87       42450    Diesel   \n",
              "\n",
              "  Selling_type Transmission  Owner  \n",
              "0       Dealer       Manual      0  \n",
              "1       Dealer       Manual      0  \n",
              "2       Dealer       Manual      0  \n",
              "3       Dealer       Manual      0  \n",
              "4       Dealer       Manual      0  "
            ],
            "text/html": [
              "\n",
              "  <div id=\"df-0dff979d-1f1c-4315-b39c-0408cb2a3819\" class=\"colab-df-container\">\n",
              "    <div>\n",
              "<style scoped>\n",
              "    .dataframe tbody tr th:only-of-type {\n",
              "        vertical-align: middle;\n",
              "    }\n",
              "\n",
              "    .dataframe tbody tr th {\n",
              "        vertical-align: top;\n",
              "    }\n",
              "\n",
              "    .dataframe thead th {\n",
              "        text-align: right;\n",
              "    }\n",
              "</style>\n",
              "<table border=\"1\" class=\"dataframe\">\n",
              "  <thead>\n",
              "    <tr style=\"text-align: right;\">\n",
              "      <th></th>\n",
              "      <th>Car_Name</th>\n",
              "      <th>Year</th>\n",
              "      <th>Selling_Price</th>\n",
              "      <th>Present_Price</th>\n",
              "      <th>Driven_kms</th>\n",
              "      <th>Fuel_Type</th>\n",
              "      <th>Selling_type</th>\n",
              "      <th>Transmission</th>\n",
              "      <th>Owner</th>\n",
              "    </tr>\n",
              "  </thead>\n",
              "  <tbody>\n",
              "    <tr>\n",
              "      <th>0</th>\n",
              "      <td>ritz</td>\n",
              "      <td>2014</td>\n",
              "      <td>3.35</td>\n",
              "      <td>5.59</td>\n",
              "      <td>27000</td>\n",
              "      <td>Petrol</td>\n",
              "      <td>Dealer</td>\n",
              "      <td>Manual</td>\n",
              "      <td>0</td>\n",
              "    </tr>\n",
              "    <tr>\n",
              "      <th>1</th>\n",
              "      <td>sx4</td>\n",
              "      <td>2013</td>\n",
              "      <td>4.75</td>\n",
              "      <td>9.54</td>\n",
              "      <td>43000</td>\n",
              "      <td>Diesel</td>\n",
              "      <td>Dealer</td>\n",
              "      <td>Manual</td>\n",
              "      <td>0</td>\n",
              "    </tr>\n",
              "    <tr>\n",
              "      <th>2</th>\n",
              "      <td>ciaz</td>\n",
              "      <td>2017</td>\n",
              "      <td>7.25</td>\n",
              "      <td>9.85</td>\n",
              "      <td>6900</td>\n",
              "      <td>Petrol</td>\n",
              "      <td>Dealer</td>\n",
              "      <td>Manual</td>\n",
              "      <td>0</td>\n",
              "    </tr>\n",
              "    <tr>\n",
              "      <th>3</th>\n",
              "      <td>wagon r</td>\n",
              "      <td>2011</td>\n",
              "      <td>2.85</td>\n",
              "      <td>4.15</td>\n",
              "      <td>5200</td>\n",
              "      <td>Petrol</td>\n",
              "      <td>Dealer</td>\n",
              "      <td>Manual</td>\n",
              "      <td>0</td>\n",
              "    </tr>\n",
              "    <tr>\n",
              "      <th>4</th>\n",
              "      <td>swift</td>\n",
              "      <td>2014</td>\n",
              "      <td>4.60</td>\n",
              "      <td>6.87</td>\n",
              "      <td>42450</td>\n",
              "      <td>Diesel</td>\n",
              "      <td>Dealer</td>\n",
              "      <td>Manual</td>\n",
              "      <td>0</td>\n",
              "    </tr>\n",
              "  </tbody>\n",
              "</table>\n",
              "</div>\n",
              "    <div class=\"colab-df-buttons\">\n",
              "\n",
              "  <div class=\"colab-df-container\">\n",
              "    <button class=\"colab-df-convert\" onclick=\"convertToInteractive('df-0dff979d-1f1c-4315-b39c-0408cb2a3819')\"\n",
              "            title=\"Convert this dataframe to an interactive table.\"\n",
              "            style=\"display:none;\">\n",
              "\n",
              "  <svg xmlns=\"http://www.w3.org/2000/svg\" height=\"24px\" viewBox=\"0 -960 960 960\">\n",
              "    <path d=\"M120-120v-720h720v720H120Zm60-500h600v-160H180v160Zm220 220h160v-160H400v160Zm0 220h160v-160H400v160ZM180-400h160v-160H180v160Zm440 0h160v-160H620v160ZM180-180h160v-160H180v160Zm440 0h160v-160H620v160Z\"/>\n",
              "  </svg>\n",
              "    </button>\n",
              "\n",
              "  <style>\n",
              "    .colab-df-container {\n",
              "      display:flex;\n",
              "      gap: 12px;\n",
              "    }\n",
              "\n",
              "    .colab-df-convert {\n",
              "      background-color: #E8F0FE;\n",
              "      border: none;\n",
              "      border-radius: 50%;\n",
              "      cursor: pointer;\n",
              "      display: none;\n",
              "      fill: #1967D2;\n",
              "      height: 32px;\n",
              "      padding: 0 0 0 0;\n",
              "      width: 32px;\n",
              "    }\n",
              "\n",
              "    .colab-df-convert:hover {\n",
              "      background-color: #E2EBFA;\n",
              "      box-shadow: 0px 1px 2px rgba(60, 64, 67, 0.3), 0px 1px 3px 1px rgba(60, 64, 67, 0.15);\n",
              "      fill: #174EA6;\n",
              "    }\n",
              "\n",
              "    .colab-df-buttons div {\n",
              "      margin-bottom: 4px;\n",
              "    }\n",
              "\n",
              "    [theme=dark] .colab-df-convert {\n",
              "      background-color: #3B4455;\n",
              "      fill: #D2E3FC;\n",
              "    }\n",
              "\n",
              "    [theme=dark] .colab-df-convert:hover {\n",
              "      background-color: #434B5C;\n",
              "      box-shadow: 0px 1px 3px 1px rgba(0, 0, 0, 0.15);\n",
              "      filter: drop-shadow(0px 1px 2px rgba(0, 0, 0, 0.3));\n",
              "      fill: #FFFFFF;\n",
              "    }\n",
              "  </style>\n",
              "\n",
              "    <script>\n",
              "      const buttonEl =\n",
              "        document.querySelector('#df-0dff979d-1f1c-4315-b39c-0408cb2a3819 button.colab-df-convert');\n",
              "      buttonEl.style.display =\n",
              "        google.colab.kernel.accessAllowed ? 'block' : 'none';\n",
              "\n",
              "      async function convertToInteractive(key) {\n",
              "        const element = document.querySelector('#df-0dff979d-1f1c-4315-b39c-0408cb2a3819');\n",
              "        const dataTable =\n",
              "          await google.colab.kernel.invokeFunction('convertToInteractive',\n",
              "                                                    [key], {});\n",
              "        if (!dataTable) return;\n",
              "\n",
              "        const docLinkHtml = 'Like what you see? Visit the ' +\n",
              "          '<a target=\"_blank\" href=https://colab.research.google.com/notebooks/data_table.ipynb>data table notebook</a>'\n",
              "          + ' to learn more about interactive tables.';\n",
              "        element.innerHTML = '';\n",
              "        dataTable['output_type'] = 'display_data';\n",
              "        await google.colab.output.renderOutput(dataTable, element);\n",
              "        const docLink = document.createElement('div');\n",
              "        docLink.innerHTML = docLinkHtml;\n",
              "        element.appendChild(docLink);\n",
              "      }\n",
              "    </script>\n",
              "  </div>\n",
              "\n",
              "\n",
              "<div id=\"df-6212516e-7f86-40bd-b61b-bcb49f3f0f34\">\n",
              "  <button class=\"colab-df-quickchart\" onclick=\"quickchart('df-6212516e-7f86-40bd-b61b-bcb49f3f0f34')\"\n",
              "            title=\"Suggest charts\"\n",
              "            style=\"display:none;\">\n",
              "\n",
              "<svg xmlns=\"http://www.w3.org/2000/svg\" height=\"24px\"viewBox=\"0 0 24 24\"\n",
              "     width=\"24px\">\n",
              "    <g>\n",
              "        <path d=\"M19 3H5c-1.1 0-2 .9-2 2v14c0 1.1.9 2 2 2h14c1.1 0 2-.9 2-2V5c0-1.1-.9-2-2-2zM9 17H7v-7h2v7zm4 0h-2V7h2v10zm4 0h-2v-4h2v4z\"/>\n",
              "    </g>\n",
              "</svg>\n",
              "  </button>\n",
              "\n",
              "<style>\n",
              "  .colab-df-quickchart {\n",
              "      --bg-color: #E8F0FE;\n",
              "      --fill-color: #1967D2;\n",
              "      --hover-bg-color: #E2EBFA;\n",
              "      --hover-fill-color: #174EA6;\n",
              "      --disabled-fill-color: #AAA;\n",
              "      --disabled-bg-color: #DDD;\n",
              "  }\n",
              "\n",
              "  [theme=dark] .colab-df-quickchart {\n",
              "      --bg-color: #3B4455;\n",
              "      --fill-color: #D2E3FC;\n",
              "      --hover-bg-color: #434B5C;\n",
              "      --hover-fill-color: #FFFFFF;\n",
              "      --disabled-bg-color: #3B4455;\n",
              "      --disabled-fill-color: #666;\n",
              "  }\n",
              "\n",
              "  .colab-df-quickchart {\n",
              "    background-color: var(--bg-color);\n",
              "    border: none;\n",
              "    border-radius: 50%;\n",
              "    cursor: pointer;\n",
              "    display: none;\n",
              "    fill: var(--fill-color);\n",
              "    height: 32px;\n",
              "    padding: 0;\n",
              "    width: 32px;\n",
              "  }\n",
              "\n",
              "  .colab-df-quickchart:hover {\n",
              "    background-color: var(--hover-bg-color);\n",
              "    box-shadow: 0 1px 2px rgba(60, 64, 67, 0.3), 0 1px 3px 1px rgba(60, 64, 67, 0.15);\n",
              "    fill: var(--button-hover-fill-color);\n",
              "  }\n",
              "\n",
              "  .colab-df-quickchart-complete:disabled,\n",
              "  .colab-df-quickchart-complete:disabled:hover {\n",
              "    background-color: var(--disabled-bg-color);\n",
              "    fill: var(--disabled-fill-color);\n",
              "    box-shadow: none;\n",
              "  }\n",
              "\n",
              "  .colab-df-spinner {\n",
              "    border: 2px solid var(--fill-color);\n",
              "    border-color: transparent;\n",
              "    border-bottom-color: var(--fill-color);\n",
              "    animation:\n",
              "      spin 1s steps(1) infinite;\n",
              "  }\n",
              "\n",
              "  @keyframes spin {\n",
              "    0% {\n",
              "      border-color: transparent;\n",
              "      border-bottom-color: var(--fill-color);\n",
              "      border-left-color: var(--fill-color);\n",
              "    }\n",
              "    20% {\n",
              "      border-color: transparent;\n",
              "      border-left-color: var(--fill-color);\n",
              "      border-top-color: var(--fill-color);\n",
              "    }\n",
              "    30% {\n",
              "      border-color: transparent;\n",
              "      border-left-color: var(--fill-color);\n",
              "      border-top-color: var(--fill-color);\n",
              "      border-right-color: var(--fill-color);\n",
              "    }\n",
              "    40% {\n",
              "      border-color: transparent;\n",
              "      border-right-color: var(--fill-color);\n",
              "      border-top-color: var(--fill-color);\n",
              "    }\n",
              "    60% {\n",
              "      border-color: transparent;\n",
              "      border-right-color: var(--fill-color);\n",
              "    }\n",
              "    80% {\n",
              "      border-color: transparent;\n",
              "      border-right-color: var(--fill-color);\n",
              "      border-bottom-color: var(--fill-color);\n",
              "    }\n",
              "    90% {\n",
              "      border-color: transparent;\n",
              "      border-bottom-color: var(--fill-color);\n",
              "    }\n",
              "  }\n",
              "</style>\n",
              "\n",
              "  <script>\n",
              "    async function quickchart(key) {\n",
              "      const quickchartButtonEl =\n",
              "        document.querySelector('#' + key + ' button');\n",
              "      quickchartButtonEl.disabled = true;  // To prevent multiple clicks.\n",
              "      quickchartButtonEl.classList.add('colab-df-spinner');\n",
              "      try {\n",
              "        const charts = await google.colab.kernel.invokeFunction(\n",
              "            'suggestCharts', [key], {});\n",
              "      } catch (error) {\n",
              "        console.error('Error during call to suggestCharts:', error);\n",
              "      }\n",
              "      quickchartButtonEl.classList.remove('colab-df-spinner');\n",
              "      quickchartButtonEl.classList.add('colab-df-quickchart-complete');\n",
              "    }\n",
              "    (() => {\n",
              "      let quickchartButtonEl =\n",
              "        document.querySelector('#df-6212516e-7f86-40bd-b61b-bcb49f3f0f34 button');\n",
              "      quickchartButtonEl.style.display =\n",
              "        google.colab.kernel.accessAllowed ? 'block' : 'none';\n",
              "    })();\n",
              "  </script>\n",
              "</div>\n",
              "\n",
              "    </div>\n",
              "  </div>\n"
            ],
            "application/vnd.google.colaboratory.intrinsic+json": {
              "type": "dataframe",
              "variable_name": "car_dataset",
              "summary": "{\n  \"name\": \"car_dataset\",\n  \"rows\": 301,\n  \"fields\": [\n    {\n      \"column\": \"Car_Name\",\n      \"properties\": {\n        \"dtype\": \"category\",\n        \"num_unique_values\": 98,\n        \"samples\": [\n          \"Hero Passion Pro\",\n          \"Honda CB Hornet 160R\",\n          \"city\"\n        ],\n        \"semantic_type\": \"\",\n        \"description\": \"\"\n      }\n    },\n    {\n      \"column\": \"Year\",\n      \"properties\": {\n        \"dtype\": \"number\",\n        \"std\": 2,\n        \"min\": 2003,\n        \"max\": 2018,\n        \"num_unique_values\": 16,\n        \"samples\": [\n          2014,\n          2013,\n          2015\n        ],\n        \"semantic_type\": \"\",\n        \"description\": \"\"\n      }\n    },\n    {\n      \"column\": \"Selling_Price\",\n      \"properties\": {\n        \"dtype\": \"number\",\n        \"std\": 5.082811556177803,\n        \"min\": 0.1,\n        \"max\": 35.0,\n        \"num_unique_values\": 156,\n        \"samples\": [\n          0.4,\n          7.05,\n          0.9\n        ],\n        \"semantic_type\": \"\",\n        \"description\": \"\"\n      }\n    },\n    {\n      \"column\": \"Present_Price\",\n      \"properties\": {\n        \"dtype\": \"number\",\n        \"std\": 8.642584359825474,\n        \"min\": 0.32,\n        \"max\": 92.6,\n        \"num_unique_values\": 148,\n        \"samples\": [\n          8.4,\n          36.23,\n          11.8\n        ],\n        \"semantic_type\": \"\",\n        \"description\": \"\"\n      }\n    },\n    {\n      \"column\": \"Driven_kms\",\n      \"properties\": {\n        \"dtype\": \"number\",\n        \"std\": 38886,\n        \"min\": 500,\n        \"max\": 500000,\n        \"num_unique_values\": 206,\n        \"samples\": [\n          41678,\n          42367,\n          60076\n        ],\n        \"semantic_type\": \"\",\n        \"description\": \"\"\n      }\n    },\n    {\n      \"column\": \"Fuel_Type\",\n      \"properties\": {\n        \"dtype\": \"category\",\n        \"num_unique_values\": 3,\n        \"samples\": [\n          \"Petrol\",\n          \"Diesel\",\n          \"CNG\"\n        ],\n        \"semantic_type\": \"\",\n        \"description\": \"\"\n      }\n    },\n    {\n      \"column\": \"Selling_type\",\n      \"properties\": {\n        \"dtype\": \"category\",\n        \"num_unique_values\": 2,\n        \"samples\": [\n          \"Individual\",\n          \"Dealer\"\n        ],\n        \"semantic_type\": \"\",\n        \"description\": \"\"\n      }\n    },\n    {\n      \"column\": \"Transmission\",\n      \"properties\": {\n        \"dtype\": \"category\",\n        \"num_unique_values\": 2,\n        \"samples\": [\n          \"Automatic\",\n          \"Manual\"\n        ],\n        \"semantic_type\": \"\",\n        \"description\": \"\"\n      }\n    },\n    {\n      \"column\": \"Owner\",\n      \"properties\": {\n        \"dtype\": \"number\",\n        \"std\": 0,\n        \"min\": 0,\n        \"max\": 3,\n        \"num_unique_values\": 3,\n        \"samples\": [\n          0,\n          1\n        ],\n        \"semantic_type\": \"\",\n        \"description\": \"\"\n      }\n    }\n  ]\n}"
            }
          },
          "metadata": {},
          "execution_count": 4
        }
      ]
    },
    {
      "cell_type": "code",
      "source": [
        "#checking no. of rows and columns\n",
        "car_dataset.shape"
      ],
      "metadata": {
        "colab": {
          "base_uri": "https://localhost:8080/"
        },
        "id": "H391wJhAp3_E",
        "outputId": "456d5ab4-fcf3-43b7-f8ad-92196e40f870"
      },
      "execution_count": 5,
      "outputs": [
        {
          "output_type": "execute_result",
          "data": {
            "text/plain": [
              "(301, 9)"
            ]
          },
          "metadata": {},
          "execution_count": 5
        }
      ]
    },
    {
      "cell_type": "code",
      "source": [
        "car_dataset.info()\n"
      ],
      "metadata": {
        "colab": {
          "base_uri": "https://localhost:8080/"
        },
        "id": "T5Im9Z2QqDoU",
        "outputId": "0e0b7e8b-c462-451c-e9a7-b7ebbc96a498"
      },
      "execution_count": 6,
      "outputs": [
        {
          "output_type": "stream",
          "name": "stdout",
          "text": [
            "<class 'pandas.core.frame.DataFrame'>\n",
            "RangeIndex: 301 entries, 0 to 300\n",
            "Data columns (total 9 columns):\n",
            " #   Column         Non-Null Count  Dtype  \n",
            "---  ------         --------------  -----  \n",
            " 0   Car_Name       301 non-null    object \n",
            " 1   Year           301 non-null    int64  \n",
            " 2   Selling_Price  301 non-null    float64\n",
            " 3   Present_Price  301 non-null    float64\n",
            " 4   Driven_kms     301 non-null    int64  \n",
            " 5   Fuel_Type      301 non-null    object \n",
            " 6   Selling_type   301 non-null    object \n",
            " 7   Transmission   301 non-null    object \n",
            " 8   Owner          301 non-null    int64  \n",
            "dtypes: float64(2), int64(3), object(4)\n",
            "memory usage: 21.3+ KB\n"
          ]
        }
      ]
    },
    {
      "cell_type": "code",
      "source": [
        "#checking the no. of missing values\n",
        "car_dataset.isnull().sum()"
      ],
      "metadata": {
        "colab": {
          "base_uri": "https://localhost:8080/"
        },
        "id": "nhprs1VPqZxb",
        "outputId": "ecb1de59-1518-47e1-c8b0-0e52d37a6556"
      },
      "execution_count": 7,
      "outputs": [
        {
          "output_type": "execute_result",
          "data": {
            "text/plain": [
              "Car_Name         0\n",
              "Year             0\n",
              "Selling_Price    0\n",
              "Present_Price    0\n",
              "Driven_kms       0\n",
              "Fuel_Type        0\n",
              "Selling_type     0\n",
              "Transmission     0\n",
              "Owner            0\n",
              "dtype: int64"
            ]
          },
          "metadata": {},
          "execution_count": 7
        }
      ]
    },
    {
      "cell_type": "code",
      "source": [
        "#checking the distribution categorical data\n",
        "print(car_dataset.Fuel_Type.value_counts())\n",
        "print(car_dataset.Selling_type.value_counts())\n",
        "print(car_dataset.Transmission.value_counts())\n"
      ],
      "metadata": {
        "colab": {
          "base_uri": "https://localhost:8080/"
        },
        "id": "8nnfWBQVqywE",
        "outputId": "2d019e30-c275-4dbd-db6b-ab89dded6db7"
      },
      "execution_count": 8,
      "outputs": [
        {
          "output_type": "stream",
          "name": "stdout",
          "text": [
            "Fuel_Type\n",
            "Petrol    239\n",
            "Diesel     60\n",
            "CNG         2\n",
            "Name: count, dtype: int64\n",
            "Selling_type\n",
            "Dealer        195\n",
            "Individual    106\n",
            "Name: count, dtype: int64\n",
            "Transmission\n",
            "Manual       261\n",
            "Automatic     40\n",
            "Name: count, dtype: int64\n"
          ]
        }
      ]
    },
    {
      "cell_type": "code",
      "source": [],
      "metadata": {
        "id": "EEl2HoRzrbgI"
      },
      "execution_count": null,
      "outputs": []
    },
    {
      "cell_type": "markdown",
      "source": [
        "\n",
        "Encoding the Categorical Data"
      ],
      "metadata": {
        "id": "h_Ym79lvtAhD"
      }
    },
    {
      "cell_type": "code",
      "source": [
        "#encoding the Fuel_Type column petrol = 0 , diseal = 1 and CNG = 2\n",
        "car_dataset.replace({'Fuel_Type':{'Petrol':0 ,'Diesel':1,'CNG':2}},inplace=True)\n",
        "\n",
        "#encoding the Selling_type Dealer = 0 , Individual = 1\n",
        "car_dataset.replace({'Selling_type' : {'Dealer':0 ,'Individual':1}},inplace=True)\n",
        "\n",
        "#encoding the Transmission column Manual = 0 , Automatic = 1\n",
        "car_dataset.replace({'Transmission' : {'Manual':0 ,'Automatic':1}},inplace=True)"
      ],
      "metadata": {
        "id": "9CahBxNftNab"
      },
      "execution_count": 9,
      "outputs": []
    },
    {
      "cell_type": "code",
      "source": [
        "car_dataset.head()"
      ],
      "metadata": {
        "colab": {
          "base_uri": "https://localhost:8080/",
          "height": 206
        },
        "id": "SDBngCf7wXmh",
        "outputId": "b47efe32-a7f8-4f0e-cc97-e0cb63ab528c"
      },
      "execution_count": 10,
      "outputs": [
        {
          "output_type": "execute_result",
          "data": {
            "text/plain": [
              "  Car_Name  Year  Selling_Price  Present_Price  Driven_kms  Fuel_Type  \\\n",
              "0     ritz  2014           3.35           5.59       27000          0   \n",
              "1      sx4  2013           4.75           9.54       43000          1   \n",
              "2     ciaz  2017           7.25           9.85        6900          0   \n",
              "3  wagon r  2011           2.85           4.15        5200          0   \n",
              "4    swift  2014           4.60           6.87       42450          1   \n",
              "\n",
              "   Selling_type  Transmission  Owner  \n",
              "0             0             0      0  \n",
              "1             0             0      0  \n",
              "2             0             0      0  \n",
              "3             0             0      0  \n",
              "4             0             0      0  "
            ],
            "text/html": [
              "\n",
              "  <div id=\"df-096c6b2e-8159-4f8c-9179-182777b1a7c4\" class=\"colab-df-container\">\n",
              "    <div>\n",
              "<style scoped>\n",
              "    .dataframe tbody tr th:only-of-type {\n",
              "        vertical-align: middle;\n",
              "    }\n",
              "\n",
              "    .dataframe tbody tr th {\n",
              "        vertical-align: top;\n",
              "    }\n",
              "\n",
              "    .dataframe thead th {\n",
              "        text-align: right;\n",
              "    }\n",
              "</style>\n",
              "<table border=\"1\" class=\"dataframe\">\n",
              "  <thead>\n",
              "    <tr style=\"text-align: right;\">\n",
              "      <th></th>\n",
              "      <th>Car_Name</th>\n",
              "      <th>Year</th>\n",
              "      <th>Selling_Price</th>\n",
              "      <th>Present_Price</th>\n",
              "      <th>Driven_kms</th>\n",
              "      <th>Fuel_Type</th>\n",
              "      <th>Selling_type</th>\n",
              "      <th>Transmission</th>\n",
              "      <th>Owner</th>\n",
              "    </tr>\n",
              "  </thead>\n",
              "  <tbody>\n",
              "    <tr>\n",
              "      <th>0</th>\n",
              "      <td>ritz</td>\n",
              "      <td>2014</td>\n",
              "      <td>3.35</td>\n",
              "      <td>5.59</td>\n",
              "      <td>27000</td>\n",
              "      <td>0</td>\n",
              "      <td>0</td>\n",
              "      <td>0</td>\n",
              "      <td>0</td>\n",
              "    </tr>\n",
              "    <tr>\n",
              "      <th>1</th>\n",
              "      <td>sx4</td>\n",
              "      <td>2013</td>\n",
              "      <td>4.75</td>\n",
              "      <td>9.54</td>\n",
              "      <td>43000</td>\n",
              "      <td>1</td>\n",
              "      <td>0</td>\n",
              "      <td>0</td>\n",
              "      <td>0</td>\n",
              "    </tr>\n",
              "    <tr>\n",
              "      <th>2</th>\n",
              "      <td>ciaz</td>\n",
              "      <td>2017</td>\n",
              "      <td>7.25</td>\n",
              "      <td>9.85</td>\n",
              "      <td>6900</td>\n",
              "      <td>0</td>\n",
              "      <td>0</td>\n",
              "      <td>0</td>\n",
              "      <td>0</td>\n",
              "    </tr>\n",
              "    <tr>\n",
              "      <th>3</th>\n",
              "      <td>wagon r</td>\n",
              "      <td>2011</td>\n",
              "      <td>2.85</td>\n",
              "      <td>4.15</td>\n",
              "      <td>5200</td>\n",
              "      <td>0</td>\n",
              "      <td>0</td>\n",
              "      <td>0</td>\n",
              "      <td>0</td>\n",
              "    </tr>\n",
              "    <tr>\n",
              "      <th>4</th>\n",
              "      <td>swift</td>\n",
              "      <td>2014</td>\n",
              "      <td>4.60</td>\n",
              "      <td>6.87</td>\n",
              "      <td>42450</td>\n",
              "      <td>1</td>\n",
              "      <td>0</td>\n",
              "      <td>0</td>\n",
              "      <td>0</td>\n",
              "    </tr>\n",
              "  </tbody>\n",
              "</table>\n",
              "</div>\n",
              "    <div class=\"colab-df-buttons\">\n",
              "\n",
              "  <div class=\"colab-df-container\">\n",
              "    <button class=\"colab-df-convert\" onclick=\"convertToInteractive('df-096c6b2e-8159-4f8c-9179-182777b1a7c4')\"\n",
              "            title=\"Convert this dataframe to an interactive table.\"\n",
              "            style=\"display:none;\">\n",
              "\n",
              "  <svg xmlns=\"http://www.w3.org/2000/svg\" height=\"24px\" viewBox=\"0 -960 960 960\">\n",
              "    <path d=\"M120-120v-720h720v720H120Zm60-500h600v-160H180v160Zm220 220h160v-160H400v160Zm0 220h160v-160H400v160ZM180-400h160v-160H180v160Zm440 0h160v-160H620v160ZM180-180h160v-160H180v160Zm440 0h160v-160H620v160Z\"/>\n",
              "  </svg>\n",
              "    </button>\n",
              "\n",
              "  <style>\n",
              "    .colab-df-container {\n",
              "      display:flex;\n",
              "      gap: 12px;\n",
              "    }\n",
              "\n",
              "    .colab-df-convert {\n",
              "      background-color: #E8F0FE;\n",
              "      border: none;\n",
              "      border-radius: 50%;\n",
              "      cursor: pointer;\n",
              "      display: none;\n",
              "      fill: #1967D2;\n",
              "      height: 32px;\n",
              "      padding: 0 0 0 0;\n",
              "      width: 32px;\n",
              "    }\n",
              "\n",
              "    .colab-df-convert:hover {\n",
              "      background-color: #E2EBFA;\n",
              "      box-shadow: 0px 1px 2px rgba(60, 64, 67, 0.3), 0px 1px 3px 1px rgba(60, 64, 67, 0.15);\n",
              "      fill: #174EA6;\n",
              "    }\n",
              "\n",
              "    .colab-df-buttons div {\n",
              "      margin-bottom: 4px;\n",
              "    }\n",
              "\n",
              "    [theme=dark] .colab-df-convert {\n",
              "      background-color: #3B4455;\n",
              "      fill: #D2E3FC;\n",
              "    }\n",
              "\n",
              "    [theme=dark] .colab-df-convert:hover {\n",
              "      background-color: #434B5C;\n",
              "      box-shadow: 0px 1px 3px 1px rgba(0, 0, 0, 0.15);\n",
              "      filter: drop-shadow(0px 1px 2px rgba(0, 0, 0, 0.3));\n",
              "      fill: #FFFFFF;\n",
              "    }\n",
              "  </style>\n",
              "\n",
              "    <script>\n",
              "      const buttonEl =\n",
              "        document.querySelector('#df-096c6b2e-8159-4f8c-9179-182777b1a7c4 button.colab-df-convert');\n",
              "      buttonEl.style.display =\n",
              "        google.colab.kernel.accessAllowed ? 'block' : 'none';\n",
              "\n",
              "      async function convertToInteractive(key) {\n",
              "        const element = document.querySelector('#df-096c6b2e-8159-4f8c-9179-182777b1a7c4');\n",
              "        const dataTable =\n",
              "          await google.colab.kernel.invokeFunction('convertToInteractive',\n",
              "                                                    [key], {});\n",
              "        if (!dataTable) return;\n",
              "\n",
              "        const docLinkHtml = 'Like what you see? Visit the ' +\n",
              "          '<a target=\"_blank\" href=https://colab.research.google.com/notebooks/data_table.ipynb>data table notebook</a>'\n",
              "          + ' to learn more about interactive tables.';\n",
              "        element.innerHTML = '';\n",
              "        dataTable['output_type'] = 'display_data';\n",
              "        await google.colab.output.renderOutput(dataTable, element);\n",
              "        const docLink = document.createElement('div');\n",
              "        docLink.innerHTML = docLinkHtml;\n",
              "        element.appendChild(docLink);\n",
              "      }\n",
              "    </script>\n",
              "  </div>\n",
              "\n",
              "\n",
              "<div id=\"df-70df4634-0a6c-4c8c-8a19-0cd14f66b729\">\n",
              "  <button class=\"colab-df-quickchart\" onclick=\"quickchart('df-70df4634-0a6c-4c8c-8a19-0cd14f66b729')\"\n",
              "            title=\"Suggest charts\"\n",
              "            style=\"display:none;\">\n",
              "\n",
              "<svg xmlns=\"http://www.w3.org/2000/svg\" height=\"24px\"viewBox=\"0 0 24 24\"\n",
              "     width=\"24px\">\n",
              "    <g>\n",
              "        <path d=\"M19 3H5c-1.1 0-2 .9-2 2v14c0 1.1.9 2 2 2h14c1.1 0 2-.9 2-2V5c0-1.1-.9-2-2-2zM9 17H7v-7h2v7zm4 0h-2V7h2v10zm4 0h-2v-4h2v4z\"/>\n",
              "    </g>\n",
              "</svg>\n",
              "  </button>\n",
              "\n",
              "<style>\n",
              "  .colab-df-quickchart {\n",
              "      --bg-color: #E8F0FE;\n",
              "      --fill-color: #1967D2;\n",
              "      --hover-bg-color: #E2EBFA;\n",
              "      --hover-fill-color: #174EA6;\n",
              "      --disabled-fill-color: #AAA;\n",
              "      --disabled-bg-color: #DDD;\n",
              "  }\n",
              "\n",
              "  [theme=dark] .colab-df-quickchart {\n",
              "      --bg-color: #3B4455;\n",
              "      --fill-color: #D2E3FC;\n",
              "      --hover-bg-color: #434B5C;\n",
              "      --hover-fill-color: #FFFFFF;\n",
              "      --disabled-bg-color: #3B4455;\n",
              "      --disabled-fill-color: #666;\n",
              "  }\n",
              "\n",
              "  .colab-df-quickchart {\n",
              "    background-color: var(--bg-color);\n",
              "    border: none;\n",
              "    border-radius: 50%;\n",
              "    cursor: pointer;\n",
              "    display: none;\n",
              "    fill: var(--fill-color);\n",
              "    height: 32px;\n",
              "    padding: 0;\n",
              "    width: 32px;\n",
              "  }\n",
              "\n",
              "  .colab-df-quickchart:hover {\n",
              "    background-color: var(--hover-bg-color);\n",
              "    box-shadow: 0 1px 2px rgba(60, 64, 67, 0.3), 0 1px 3px 1px rgba(60, 64, 67, 0.15);\n",
              "    fill: var(--button-hover-fill-color);\n",
              "  }\n",
              "\n",
              "  .colab-df-quickchart-complete:disabled,\n",
              "  .colab-df-quickchart-complete:disabled:hover {\n",
              "    background-color: var(--disabled-bg-color);\n",
              "    fill: var(--disabled-fill-color);\n",
              "    box-shadow: none;\n",
              "  }\n",
              "\n",
              "  .colab-df-spinner {\n",
              "    border: 2px solid var(--fill-color);\n",
              "    border-color: transparent;\n",
              "    border-bottom-color: var(--fill-color);\n",
              "    animation:\n",
              "      spin 1s steps(1) infinite;\n",
              "  }\n",
              "\n",
              "  @keyframes spin {\n",
              "    0% {\n",
              "      border-color: transparent;\n",
              "      border-bottom-color: var(--fill-color);\n",
              "      border-left-color: var(--fill-color);\n",
              "    }\n",
              "    20% {\n",
              "      border-color: transparent;\n",
              "      border-left-color: var(--fill-color);\n",
              "      border-top-color: var(--fill-color);\n",
              "    }\n",
              "    30% {\n",
              "      border-color: transparent;\n",
              "      border-left-color: var(--fill-color);\n",
              "      border-top-color: var(--fill-color);\n",
              "      border-right-color: var(--fill-color);\n",
              "    }\n",
              "    40% {\n",
              "      border-color: transparent;\n",
              "      border-right-color: var(--fill-color);\n",
              "      border-top-color: var(--fill-color);\n",
              "    }\n",
              "    60% {\n",
              "      border-color: transparent;\n",
              "      border-right-color: var(--fill-color);\n",
              "    }\n",
              "    80% {\n",
              "      border-color: transparent;\n",
              "      border-right-color: var(--fill-color);\n",
              "      border-bottom-color: var(--fill-color);\n",
              "    }\n",
              "    90% {\n",
              "      border-color: transparent;\n",
              "      border-bottom-color: var(--fill-color);\n",
              "    }\n",
              "  }\n",
              "</style>\n",
              "\n",
              "  <script>\n",
              "    async function quickchart(key) {\n",
              "      const quickchartButtonEl =\n",
              "        document.querySelector('#' + key + ' button');\n",
              "      quickchartButtonEl.disabled = true;  // To prevent multiple clicks.\n",
              "      quickchartButtonEl.classList.add('colab-df-spinner');\n",
              "      try {\n",
              "        const charts = await google.colab.kernel.invokeFunction(\n",
              "            'suggestCharts', [key], {});\n",
              "      } catch (error) {\n",
              "        console.error('Error during call to suggestCharts:', error);\n",
              "      }\n",
              "      quickchartButtonEl.classList.remove('colab-df-spinner');\n",
              "      quickchartButtonEl.classList.add('colab-df-quickchart-complete');\n",
              "    }\n",
              "    (() => {\n",
              "      let quickchartButtonEl =\n",
              "        document.querySelector('#df-70df4634-0a6c-4c8c-8a19-0cd14f66b729 button');\n",
              "      quickchartButtonEl.style.display =\n",
              "        google.colab.kernel.accessAllowed ? 'block' : 'none';\n",
              "    })();\n",
              "  </script>\n",
              "</div>\n",
              "\n",
              "    </div>\n",
              "  </div>\n"
            ],
            "application/vnd.google.colaboratory.intrinsic+json": {
              "type": "dataframe",
              "variable_name": "car_dataset",
              "summary": "{\n  \"name\": \"car_dataset\",\n  \"rows\": 301,\n  \"fields\": [\n    {\n      \"column\": \"Car_Name\",\n      \"properties\": {\n        \"dtype\": \"category\",\n        \"num_unique_values\": 98,\n        \"samples\": [\n          \"Hero Passion Pro\",\n          \"Honda CB Hornet 160R\",\n          \"city\"\n        ],\n        \"semantic_type\": \"\",\n        \"description\": \"\"\n      }\n    },\n    {\n      \"column\": \"Year\",\n      \"properties\": {\n        \"dtype\": \"number\",\n        \"std\": 2,\n        \"min\": 2003,\n        \"max\": 2018,\n        \"num_unique_values\": 16,\n        \"samples\": [\n          2014,\n          2013,\n          2015\n        ],\n        \"semantic_type\": \"\",\n        \"description\": \"\"\n      }\n    },\n    {\n      \"column\": \"Selling_Price\",\n      \"properties\": {\n        \"dtype\": \"number\",\n        \"std\": 5.082811556177803,\n        \"min\": 0.1,\n        \"max\": 35.0,\n        \"num_unique_values\": 156,\n        \"samples\": [\n          0.4,\n          7.05,\n          0.9\n        ],\n        \"semantic_type\": \"\",\n        \"description\": \"\"\n      }\n    },\n    {\n      \"column\": \"Present_Price\",\n      \"properties\": {\n        \"dtype\": \"number\",\n        \"std\": 8.642584359825474,\n        \"min\": 0.32,\n        \"max\": 92.6,\n        \"num_unique_values\": 148,\n        \"samples\": [\n          8.4,\n          36.23,\n          11.8\n        ],\n        \"semantic_type\": \"\",\n        \"description\": \"\"\n      }\n    },\n    {\n      \"column\": \"Driven_kms\",\n      \"properties\": {\n        \"dtype\": \"number\",\n        \"std\": 38886,\n        \"min\": 500,\n        \"max\": 500000,\n        \"num_unique_values\": 206,\n        \"samples\": [\n          41678,\n          42367,\n          60076\n        ],\n        \"semantic_type\": \"\",\n        \"description\": \"\"\n      }\n    },\n    {\n      \"column\": \"Fuel_Type\",\n      \"properties\": {\n        \"dtype\": \"number\",\n        \"std\": 0,\n        \"min\": 0,\n        \"max\": 2,\n        \"num_unique_values\": 3,\n        \"samples\": [\n          0,\n          1,\n          2\n        ],\n        \"semantic_type\": \"\",\n        \"description\": \"\"\n      }\n    },\n    {\n      \"column\": \"Selling_type\",\n      \"properties\": {\n        \"dtype\": \"number\",\n        \"std\": 0,\n        \"min\": 0,\n        \"max\": 1,\n        \"num_unique_values\": 2,\n        \"samples\": [\n          1,\n          0\n        ],\n        \"semantic_type\": \"\",\n        \"description\": \"\"\n      }\n    },\n    {\n      \"column\": \"Transmission\",\n      \"properties\": {\n        \"dtype\": \"number\",\n        \"std\": 0,\n        \"min\": 0,\n        \"max\": 1,\n        \"num_unique_values\": 2,\n        \"samples\": [\n          1,\n          0\n        ],\n        \"semantic_type\": \"\",\n        \"description\": \"\"\n      }\n    },\n    {\n      \"column\": \"Owner\",\n      \"properties\": {\n        \"dtype\": \"number\",\n        \"std\": 0,\n        \"min\": 0,\n        \"max\": 3,\n        \"num_unique_values\": 3,\n        \"samples\": [\n          0,\n          1\n        ],\n        \"semantic_type\": \"\",\n        \"description\": \"\"\n      }\n    }\n  ]\n}"
            }
          },
          "metadata": {},
          "execution_count": 10
        }
      ]
    },
    {
      "cell_type": "markdown",
      "source": [
        "Splitting the data and Target"
      ],
      "metadata": {
        "id": "t1x5Ob8s1v0F"
      }
    },
    {
      "cell_type": "code",
      "source": [
        "X = car_dataset.drop(['Car_Name','Selling_Price'],axis=1)\n",
        "Y =car_dataset['Selling_Price']\n",
        "print(X)\n",
        "print(Y)"
      ],
      "metadata": {
        "colab": {
          "base_uri": "https://localhost:8080/"
        },
        "id": "qdB61aFewhO_",
        "outputId": "0b2879ca-eb8a-479f-f659-7fdd112c7754"
      },
      "execution_count": 11,
      "outputs": [
        {
          "output_type": "stream",
          "name": "stdout",
          "text": [
            "     Year  Present_Price  Driven_kms  Fuel_Type  Selling_type  Transmission  \\\n",
            "0    2014           5.59       27000          0             0             0   \n",
            "1    2013           9.54       43000          1             0             0   \n",
            "2    2017           9.85        6900          0             0             0   \n",
            "3    2011           4.15        5200          0             0             0   \n",
            "4    2014           6.87       42450          1             0             0   \n",
            "..    ...            ...         ...        ...           ...           ...   \n",
            "296  2016          11.60       33988          1             0             0   \n",
            "297  2015           5.90       60000          0             0             0   \n",
            "298  2009          11.00       87934          0             0             0   \n",
            "299  2017          12.50        9000          1             0             0   \n",
            "300  2016           5.90        5464          0             0             0   \n",
            "\n",
            "     Owner  \n",
            "0        0  \n",
            "1        0  \n",
            "2        0  \n",
            "3        0  \n",
            "4        0  \n",
            "..     ...  \n",
            "296      0  \n",
            "297      0  \n",
            "298      0  \n",
            "299      0  \n",
            "300      0  \n",
            "\n",
            "[301 rows x 7 columns]\n",
            "0       3.35\n",
            "1       4.75\n",
            "2       7.25\n",
            "3       2.85\n",
            "4       4.60\n",
            "       ...  \n",
            "296     9.50\n",
            "297     4.00\n",
            "298     3.35\n",
            "299    11.50\n",
            "300     5.30\n",
            "Name: Selling_Price, Length: 301, dtype: float64\n"
          ]
        }
      ]
    },
    {
      "cell_type": "markdown",
      "source": [
        "Splitting Data into Training data Testing data"
      ],
      "metadata": {
        "id": "QkLVg15w3irb"
      }
    },
    {
      "cell_type": "code",
      "source": [
        "X_train, X_test, Y_train, Y_test = train_test_split(X, Y, test_size=0.1,random_state=2)"
      ],
      "metadata": {
        "id": "kE7JvHx63t-W"
      },
      "execution_count": 12,
      "outputs": []
    },
    {
      "cell_type": "markdown",
      "source": [
        "Model Training"
      ],
      "metadata": {
        "id": "0UjxfFoX5wMv"
      }
    },
    {
      "cell_type": "code",
      "source": [
        "#loading Linear Regression\n",
        "linear_reg_model = LinearRegression()\n"
      ],
      "metadata": {
        "id": "N2H8eNTS5yTg"
      },
      "execution_count": 13,
      "outputs": []
    },
    {
      "cell_type": "code",
      "source": [
        "linear_reg_model.fit(X_train, Y_train)\n"
      ],
      "metadata": {
        "colab": {
          "base_uri": "https://localhost:8080/",
          "height": 74
        },
        "id": "-sPVAEXd5_uI",
        "outputId": "feda088a-5e11-42b8-9f48-bc547f7b0080"
      },
      "execution_count": 15,
      "outputs": [
        {
          "output_type": "execute_result",
          "data": {
            "text/plain": [
              "LinearRegression()"
            ],
            "text/html": [
              "<style>#sk-container-id-1 {color: black;background-color: white;}#sk-container-id-1 pre{padding: 0;}#sk-container-id-1 div.sk-toggleable {background-color: white;}#sk-container-id-1 label.sk-toggleable__label {cursor: pointer;display: block;width: 100%;margin-bottom: 0;padding: 0.3em;box-sizing: border-box;text-align: center;}#sk-container-id-1 label.sk-toggleable__label-arrow:before {content: \"▸\";float: left;margin-right: 0.25em;color: #696969;}#sk-container-id-1 label.sk-toggleable__label-arrow:hover:before {color: black;}#sk-container-id-1 div.sk-estimator:hover label.sk-toggleable__label-arrow:before {color: black;}#sk-container-id-1 div.sk-toggleable__content {max-height: 0;max-width: 0;overflow: hidden;text-align: left;background-color: #f0f8ff;}#sk-container-id-1 div.sk-toggleable__content pre {margin: 0.2em;color: black;border-radius: 0.25em;background-color: #f0f8ff;}#sk-container-id-1 input.sk-toggleable__control:checked~div.sk-toggleable__content {max-height: 200px;max-width: 100%;overflow: auto;}#sk-container-id-1 input.sk-toggleable__control:checked~label.sk-toggleable__label-arrow:before {content: \"▾\";}#sk-container-id-1 div.sk-estimator input.sk-toggleable__control:checked~label.sk-toggleable__label {background-color: #d4ebff;}#sk-container-id-1 div.sk-label input.sk-toggleable__control:checked~label.sk-toggleable__label {background-color: #d4ebff;}#sk-container-id-1 input.sk-hidden--visually {border: 0;clip: rect(1px 1px 1px 1px);clip: rect(1px, 1px, 1px, 1px);height: 1px;margin: -1px;overflow: hidden;padding: 0;position: absolute;width: 1px;}#sk-container-id-1 div.sk-estimator {font-family: monospace;background-color: #f0f8ff;border: 1px dotted black;border-radius: 0.25em;box-sizing: border-box;margin-bottom: 0.5em;}#sk-container-id-1 div.sk-estimator:hover {background-color: #d4ebff;}#sk-container-id-1 div.sk-parallel-item::after {content: \"\";width: 100%;border-bottom: 1px solid gray;flex-grow: 1;}#sk-container-id-1 div.sk-label:hover label.sk-toggleable__label {background-color: #d4ebff;}#sk-container-id-1 div.sk-serial::before {content: \"\";position: absolute;border-left: 1px solid gray;box-sizing: border-box;top: 0;bottom: 0;left: 50%;z-index: 0;}#sk-container-id-1 div.sk-serial {display: flex;flex-direction: column;align-items: center;background-color: white;padding-right: 0.2em;padding-left: 0.2em;position: relative;}#sk-container-id-1 div.sk-item {position: relative;z-index: 1;}#sk-container-id-1 div.sk-parallel {display: flex;align-items: stretch;justify-content: center;background-color: white;position: relative;}#sk-container-id-1 div.sk-item::before, #sk-container-id-1 div.sk-parallel-item::before {content: \"\";position: absolute;border-left: 1px solid gray;box-sizing: border-box;top: 0;bottom: 0;left: 50%;z-index: -1;}#sk-container-id-1 div.sk-parallel-item {display: flex;flex-direction: column;z-index: 1;position: relative;background-color: white;}#sk-container-id-1 div.sk-parallel-item:first-child::after {align-self: flex-end;width: 50%;}#sk-container-id-1 div.sk-parallel-item:last-child::after {align-self: flex-start;width: 50%;}#sk-container-id-1 div.sk-parallel-item:only-child::after {width: 0;}#sk-container-id-1 div.sk-dashed-wrapped {border: 1px dashed gray;margin: 0 0.4em 0.5em 0.4em;box-sizing: border-box;padding-bottom: 0.4em;background-color: white;}#sk-container-id-1 div.sk-label label {font-family: monospace;font-weight: bold;display: inline-block;line-height: 1.2em;}#sk-container-id-1 div.sk-label-container {text-align: center;}#sk-container-id-1 div.sk-container {/* jupyter's `normalize.less` sets `[hidden] { display: none; }` but bootstrap.min.css set `[hidden] { display: none !important; }` so we also need the `!important` here to be able to override the default hidden behavior on the sphinx rendered scikit-learn.org. See: https://github.com/scikit-learn/scikit-learn/issues/21755 */display: inline-block !important;position: relative;}#sk-container-id-1 div.sk-text-repr-fallback {display: none;}</style><div id=\"sk-container-id-1\" class=\"sk-top-container\"><div class=\"sk-text-repr-fallback\"><pre>LinearRegression()</pre><b>In a Jupyter environment, please rerun this cell to show the HTML representation or trust the notebook. <br />On GitHub, the HTML representation is unable to render, please try loading this page with nbviewer.org.</b></div><div class=\"sk-container\" hidden><div class=\"sk-item\"><div class=\"sk-estimator sk-toggleable\"><input class=\"sk-toggleable__control sk-hidden--visually\" id=\"sk-estimator-id-1\" type=\"checkbox\" checked><label for=\"sk-estimator-id-1\" class=\"sk-toggleable__label sk-toggleable__label-arrow\">LinearRegression</label><div class=\"sk-toggleable__content\"><pre>LinearRegression()</pre></div></div></div></div></div>"
            ]
          },
          "metadata": {},
          "execution_count": 15
        }
      ]
    },
    {
      "cell_type": "markdown",
      "source": [
        "Model Evaluation"
      ],
      "metadata": {
        "id": "aK-8Dskr6oPU"
      }
    },
    {
      "cell_type": "code",
      "source": [
        "#predication on training data\n",
        "training_data_prediction = linear_reg_model.predict(X_train)"
      ],
      "metadata": {
        "id": "GO5rgUhV6tQ7"
      },
      "execution_count": 16,
      "outputs": []
    },
    {
      "cell_type": "code",
      "source": [
        "# R squared Error\n",
        "error_score = metrics.r2_score(Y_train, training_data_prediction)\n",
        "print(\"R squared Error : \", error_score)"
      ],
      "metadata": {
        "colab": {
          "base_uri": "https://localhost:8080/"
        },
        "id": "bbL5NEUC6-S-",
        "outputId": "0a0965e7-353f-4a23-8033-51f6dbfa1ed1"
      },
      "execution_count": 17,
      "outputs": [
        {
          "output_type": "stream",
          "name": "stdout",
          "text": [
            "R squared Error :  0.8796483009370215\n"
          ]
        }
      ]
    },
    {
      "cell_type": "code",
      "source": [],
      "metadata": {
        "id": "2l5_u7oO7t4n"
      },
      "execution_count": null,
      "outputs": []
    },
    {
      "cell_type": "markdown",
      "source": [
        "Visualize the actual price and predicted price"
      ],
      "metadata": {
        "id": "UsJpbVQI8P_M"
      }
    },
    {
      "cell_type": "code",
      "source": [
        "plt.scatter(Y_train, training_data_prediction)\n",
        "plt.xlabel(\"Actual Price\")\n",
        "plt.ylabel(\"Predicted Price\")\n",
        "plt.title(\" Actual Prices VS Predicted Prices\")\n",
        "plt.show()"
      ],
      "metadata": {
        "colab": {
          "base_uri": "https://localhost:8080/",
          "height": 472
        },
        "id": "lqvPfN8_8Tz6",
        "outputId": "3bafc1e5-f234-41ce-8d3e-b563c2635600"
      },
      "execution_count": 18,
      "outputs": [
        {
          "output_type": "display_data",
          "data": {
            "text/plain": [
              "<Figure size 640x480 with 1 Axes>"
            ],
            "image/png": "iVBORw0KGgoAAAANSUhEUgAAAjIAAAHHCAYAAACle7JuAAAAOXRFWHRTb2Z0d2FyZQBNYXRwbG90bGliIHZlcnNpb24zLjcuMSwgaHR0cHM6Ly9tYXRwbG90bGliLm9yZy/bCgiHAAAACXBIWXMAAA9hAAAPYQGoP6dpAABSZUlEQVR4nO3deVxU5f4H8M+AzLAIgwg44AKIKyJ6XeO6Jqiot0zppqaFZno1TNPqlrdbiJVLdU27KZaaVuZyzUqxspuouIRLrhlKarikLG4MmyAwz+8PfjOXgQHmwAzDgc/79ZrXS845c+Z7Dqfmy/N8n+dRCCEEiIiIiGTIztYBEBEREdUUExkiIiKSLSYyREREJFtMZIiIiEi2mMgQERGRbDGRISIiItliIkNERESyxUSGiIiIZIuJDBEREckWExmiOjR48GAMHjzY6p9z5coVKBQKbNiwweqfRZVbsGABFAqF0TZ/f39MnjzZNgGZYCpGa6lv104NAxMZkq3z589DoVDA0dERWVlZNT7PokWL8M0331gsLkvw9/eHQqEwvLy9vTFgwAB8/fXXtg6txpYtWwaFQoE9e/ZUesyaNWugUCiwc+dOAIBOp8Nnn32Gvn37wsPDA66urujQoQOefvppHDlypNrPLHsP7ezs4Ovri2HDhmH//v2Wuqw6cfPmTSxYsACnT5+2WQyTJ082up9ubm7o1q0b/vWvf6GwsNBmcRE1sXUARDW1ceNGaDQa3Lt3D19++SWeffbZGp1n0aJFePzxx/HYY49ZNsBa6t69O1588UUApV9kH330EcaOHYu4uDjMmDGjyvf6+fnh/v37cHBwqItQzTJ+/Hi8/PLL2LRpE8LDw00es2nTJjRv3hwjRowAAMyePRsrV67E6NGjMXHiRDRp0gQpKSn4/vvv0bZtWzz00EPVfu7QoUPx9NNPQwiB1NRUrFq1CkOGDMG3335r+Jy6lJKSAjs7aX9D3rx5E7GxsfD390f37t2tE5gZVCoV1q5dCwDIysrC9u3b8dJLL+H48ePYsmVLte+vybUTVUsQyZBOpxP+/v5i3rx5YsyYMWLw4ME1PpeLi4uIioqyXHBVGDRokBg0aFC1x/n5+YlRo0YZbUtLSxMuLi6iQ4cOlb6vqKhIFBYW1jZMqwkLCxNqtVoUFBRU2PfHH38IOzs7MWPGDCGEEOnp6UKhUIhp06ZVOFan04mMjIxqPw+AiI6ONtp29uxZAUAMGzas0vfdv39flJSUVHv+6sTExAhL/G/2+PHjAoBYv359rc9VnrkxRkVFCRcXF6NtJSUlolevXgKAuHHjhsn36XQ6kZ+fb5FYiUxhakyydPjwYVy5cgXjx4/H+PHjceDAAfzxxx8VjtPpdFixYgW6du0KR0dHeHl5ISIiAj///DOA0q6HvLw8fPrpp4Ymc30f/uTJk+Hv71/hnKZqCtavX48hQ4bA29sbKpUKQUFBiIuLs+g1azQadO7cGampqQD+Vwfz3nvvYfny5QgMDIRKpUJycnKlNTIXLlzAE088AS8vLzg5OaFjx4547bXXjI65ceMGnnnmGbRo0QIqlQpdunTBJ598UiGef//73+jSpQucnZ3RrFkz9OrVC5s2baryGiZNmgStVotvv/22wr4tW7ZAp9Nh4sSJAIDU1FQIIdCvX78Kx+q722qia9eu8PT0NNzH/fv3Q6FQYMuWLfjnP/+Jli1bwtnZGdnZ2QCAo0ePIiIiAmq1Gs7Ozhg0aBAOHz5c4byHDh1C79694ejoiMDAQHz00UcmP99UnUhWVhbmzp0Lf39/qFQqtGrVCk8//TRu376N/fv3o3fv3gCAKVOmGJ7Tsr9bS8doLjs7O0PN15UrVwzX95e//AU//PADevXqBScnJ8PnSL12vcLCQsTExKBdu3ZQqVRo3bo1/v73v1fo0vrxxx/Rv39/uLu7o2nTpujYsSP+8Y9/1Ooaqf5j1xLJ0hdffIHAwED07t0bwcHBcHZ2xubNm/Hyyy8bHTd16lRs2LABI0aMwLPPPovi4mIcPHgQR44cQa9evfD555/j2WefRZ8+fTB9+nQAQGBgoOR44uLi0KVLFzz66KNo0qQJ4uPj8dxzz0Gn0yE6Otoi11xUVITr16+jefPmRtvXr1+PgoICTJ8+HSqVCh4eHtDpdBXef/bsWQwYMAAODg6YPn06/P39cfnyZcTHx+Ptt98GAGRkZOChhx6CQqHArFmz4OXlhe+//x5Tp05FdnY2XnjhBQCltSyzZ8/G448/jjlz5qCgoABnz57F0aNH8eSTT1Z6DWPHjsXMmTOxadMmjB071mjfpk2b4OfnZ0hc/Pz8AADbtm3DX//6Vzg7O9f43pV179493Lt3D+3atTPa/uabb0KpVOKll15CYWEhlEol9u7dixEjRqBnz56IiYmBnZ2dIWk9ePAg+vTpAwD45ZdfMGzYMHh5eWHBggUoLi5GTEwMWrRoUW08ubm5GDBgAM6fP49nnnkGPXr0wO3bt7Fz50788ccf6Ny5MxYuXIg33ngD06dPx4ABAwAAf/7znwGgTmKsyuXLlwHA6LlMSUnBhAkT8Le//Q3Tpk1Dx44da3Ttnp6e0Ol0ePTRR3Ho0CFMnz4dnTt3xi+//IL3338fv/32m6G+7ddff8Vf/vIXhISEYOHChVCpVLh06ZLJhI4aGFs3CRFJ9eDBA9G8eXPx2muvGbY9+eSTolu3bkbH7d27VwAQs2fPrnAOnU5n+HdlXUtRUVHCz8+vwnZTTfGmms6HDx8u2rZta7RNStfSsGHDxK1bt8StW7fEmTNnxPjx4wUA8fzzzwshhEhNTRUAhJubm8jMzDR6v35f2a6IgQMHCldXV3H16lWjY8vei6lTpwofHx9x+/Zto2PGjx8v1Gq14TpHjx4tunTpUu11mPLXv/5VODo6Cq1Wa9h24cIFAUDMnz/f6Ninn35aABDNmjUTY8aMEe+99544f/682Z8FQEydOlXcunVLZGZmiqNHj4qwsDABQPzrX/8SQgixb98+AUC0bdvW6Peo0+lE+/btxfDhw43uUX5+vggICBBDhw41bHvssceEo6Oj0b1NTk4W9vb2FZ4VPz8/o+ftjTfeEADEV199VSF+/edW1rVkrRhN0Xct6Z/JS5cuiUWLFgmFQiFCQkKMrg+A2L17d4Vz1OTaP//8c2FnZycOHjxotH/16tUCgDh8+LAQQoj3339fABC3bt2q9lqoYWEiQ7KzY8cOAUCcO3fOsC0+Pr7CtujoaKFQKMSdO3eqPJ8lEpmysrKyxK1bt8SiRYsEAJGVlWXYJyWRAWD0sre3F0899ZThy1afrEyZMqXC+8snMpmZmQKAmDNnTqWfqdPphLu7u5g+fbrhy0r/Wr9+vQAgDh06ZLg3arVaHDt2rNprKU//+yv7paz/Qiv7+xOitAbjww8/FD169DC6F0OGDBF//PFHtZ9V/h4CEI6OjmLevHmGGhh9IhMbG2v03pMnTwoA4tNPP61wP5599lmhUqlESUmJKC4uFk5OTmL8+PEVPn/kyJHVJjJdunSpkISXV1kiY60YTYmKijJ5P//85z+Ly5cvG11fQECAyXPU5NofffRR0aVLlwrX99tvvwkA4q233hJCCMMzunbtWovUN5F8sGuJZGfjxo0ICAgwNB0Dpd1Bzs7O+OKLL7Bo0SIApU3evr6+8PDwsHpMhw8fRkxMDJKSkpCfn2+0T6vVQq1WSz5n37598dZbb0GhUMDZ2RmdO3eGu7t7heMCAgKqPdfvv/8OAAgODq70mFu3biErKwsff/wxPv74Y5PHZGZmAgBeeeUV7NmzB3369EG7du0wbNgwPPnkkybrWcobMWIEPDw8sGnTJkO9xObNm9GtWzd06dLF6Fg7OztER0cjOjoad+7cweHDh7F69Wp8//33GD9+PA4ePFjt540ePRqzZs2CQqGAq6srunTpAhcXlwrHlb+PFy9eBABERUVVem6tVovCwkLcv38f7du3r7C/Y8eO+O6776qM7/Lly4iMjKz2Okypqxj1HB0dER8fD6B0BFNAQABatWpV4ThznknAvGu/ePEizp8/Dy8vL5P79c/kuHHjsHbtWjz77LN49dVXERYWhrFjx+Lxxx/nSKkGjokMyUp2djbi4+NRUFBg8n/KmzZtwttvv22RCb4qO0dJSYnRz5cvX0ZYWBg6deqEZcuWoXXr1lAqlfjuu+/w/vvvm6xXMYenp2elw5TLcnJyqtH5y9PHOWnSpEq/GENCQgAAnTt3RkpKCnbt2oXdu3dj+/btWLVqFd544w3ExsZW+TkODg544oknsGbNGmRkZODatWu4ePEi3nnnnSrf17x5czz66KN49NFHMXjwYCQmJuLq1auGWprKtGrVqkb3UX8/3n333UqHPDdt2tSmc6jUdYz29vZ1+kwCpdfYtWtXLFu2zOT+1q1bGz7zwIED2LdvH7799lvs3r0bW7duxZAhQ/Df//4X9vb2FouJ6hcmMiQrX331FQoKChAXFwdPT0+jfSkpKfjnP/+Jw4cPo3///ggMDMQPP/yAu3fvVtkqU1nC0qxZM5MT7V29etXo5/j4eBQWFmLnzp1o06aNYfu+ffskXJl1tW3bFgBw7ty5So/x8vKCq6srSkpKzPqycnFxwbhx4zBu3Dg8ePAAY8eOxdtvv4358+fD0dGxyvdOnDgRq1evxtatW5GamgqFQoEJEyaYfT29evVCYmIi0tLSqk1kakpf9O3m5lbl/dCPANO3jpSVkpJi1udU9XsBKn9G6ypGazHn2gMDA3HmzBmEhYVV+weKnZ0dwsLCEBYWhmXLlmHRokV47bXXsG/fPrOeaZIntreRrGzcuBFt27bFjBkz8Pjjjxu9XnrpJTRt2hRffPEFACAyMhJCCJMtBEIIw79dXFxMJiyBgYHQarU4e/asYVtaWlqF2XX1f+mVPadWq8X69etrda2W5OXlhYEDB+KTTz7BtWvXjPbp47a3t0dkZCS2b99u8svl1q1bhn/fuXPHaJ9SqURQUBCEECgqKqo2nn79+sHf3x8bN27E1q1bMWjQoApdFOnp6UhOTq7w3gcPHiAhIQF2dnYVRh5ZUs+ePREYGIj33nsPubm5Ffbr74e9vT2GDx+Ob775xujenj9/Hj/88EO1nxMZGYkzZ86YnLVZ/7vRd4WVf07rKkZrMefan3jiCdy4cQNr1qypcMz9+/eRl5cHALh7926F/fpWKs483LCxRYZk4+bNm9i3bx9mz55tcr9KpcLw4cOxbds2fPDBB3j44Yfx1FNP4YMPPsDFixcREREBnU6HgwcP4uGHH8asWbMAlH4Z7NmzB8uWLYOvry8CAgLQt29fjB8/Hq+88grGjBmD2bNnIz8/H3FxcejQoQNOnjxp+Nxhw4ZBqVTikUcewd/+9jfk5uZizZo18Pb2RlpaWp3cG3N88MEH6N+/P3r06IHp06cjICAAV65cwbfffmuY+n7JkiXYt28f+vbti2nTpiEoKAh3797FyZMnsWfPHsOXxbBhw6DRaNCvXz+0aNEC58+fx4cffohRo0bB1dW12lgUCgWefPJJQz3TwoULKxzzxx9/oE+fPhgyZAjCwsKg0WiQmZmJzZs348yZM3jhhRcqtMpZkp2dHdauXYsRI0agS5cumDJlClq2bIkbN25g3759cHNzM9SLxMbGYvfu3RgwYACee+45FBcXG+bZKZsIm/Lyyy/jyy+/xF//+lc888wz6NmzJ+7evYudO3di9erV6NatGwIDA+Hu7o7Vq1fD1dUVLi4u6Nu3LwICAuokRmsx59qfeuop/Oc//8GMGTOwb98+9OvXDyUlJbhw4QL+85//GOarWbhwIQ4cOIBRo0bBz88PmZmZWLVqFVq1aoX+/fvb5Pqojtiw0JhIkn/9618CgEhISKj0mA0bNggAYseOHUIIIYqLi8W7774rOnXqJJRKpfDy8hIjRowQJ06cMLznwoULYuDAgcLJyUkAMBpV8d///lcEBwcLpVIpOnbsKDZu3Ghy1NLOnTtFSEiIcHR0FP7+/mLp0qXik08+EQBEamqq4bjazOxbnn5k0rvvvlvpvvKjXM6dOyfGjBkj3N3dhaOjo+jYsaN4/fXXjY7JyMgQ0dHRonXr1sLBwUFoNBoRFhYmPv74Y8MxH330kRg4cKBo3ry5UKlUIjAwULz88stGQ6qr8+uvvwoAQqVSiXv37lXYn52dLVasWCGGDx8uWrVqJRwcHISrq6sIDQ0Va9asMRpuXBmYmNm3PP2opW3btpncf+rUKTF27FjDtfr5+YknnniiwnOYmJgoevbsKZRKpWjbtq1YvXq1yWel/MgdIYS4c+eOmDVrlmjZsqVQKpWiVatWIioqymgY/I4dO0RQUJBo0qRJhd+tpWM0xdTMvqZU9ezW9NofPHggli5dKrp06SJUKpVo1qyZ6Nmzp4iNjTU8cwkJCWL06NHC19dXKJVK4evrKyZMmCB+++23amMmeVMIUaY9nIiIiEhGWCNDREREssVEhoiIiGSLiQwRERHJFhMZIiIiki0mMkRERCRbTGSIiIhIthr8hHg6nQ43b96Eq6urRdbfISIiIusTQiAnJwe+vr5VLvzZ4BOZmzdvGhYVIyIiInm5fv26yVXW9Rp8IqOfLv369etwc3OzcTRERERkjuzsbLRu3braZU8afCKj705yc3NjIkNERCQz1a56XkdxEBEREVkcExkiIiKSLSYyREREJFtMZIiIiEi2mMgQERGRbDGRISIiItliIkNERESyxUSGiIiIZIuJDBEREclWg5/Zl4iIiCyvRCdwLPUuMnMK4O3qiD4BHrC3q/vFmZnIEBERkSS7z6UhNj4ZadoCwzYftSNiHglCRLBPncbCriUiIiIy2+5zaZi58aRREgMA6doCzNx4ErvPpdVpPExkiIiIyCwlOoHY+GQIE/v022Ljk1GiM3WEdTCRISIiIrMcS71boSWmLAEgTVuAY6l36ywmJjJERERklsycypOYmhxnCUxkiIiIyCzero4WPc4SmMgQERGRWfoEeMBH7YjKBlkrUDp6qU+AR53FxESGiIiIzGJvp0DMI0EAUCGZ0f8c80hQnc4nw0SGiIiIzBYR7IO4ST2gURt3H2nUjoib1KPO55HhhHhEREQkSUSwD4YGaTizLxEREcmTvZ0CoYHNbR0Gu5aIiIhIvpjIEBERkWzVm0RmyZIlUCgUeOGFFwzbCgoKEB0djebNm6Np06aIjIxERkaG7YIkIiKieqVeJDLHjx/HRx99hJCQEKPtc+fORXx8PLZt24bExETcvHkTY8eOtVGUREREVN/YPJHJzc3FxIkTsWbNGjRr1sywXavVYt26dVi2bBmGDBmCnj17Yv369fjpp59w5MgRG0ZMRERE9YXNE5no6GiMGjUK4eHhRttPnDiBoqIio+2dOnVCmzZtkJSUVOn5CgsLkZ2dbfQiIiKihsmmw6+3bNmCkydP4vjx4xX2paenQ6lUwt3d3Wh7ixYtkJ6eXuk5Fy9ejNjYWEuHSkRERPWQzVpkrl+/jjlz5uCLL76Ao6PlFpeaP38+tFqt4XX9+nWLnZuIiIjqF5slMidOnEBmZiZ69OiBJk2aoEmTJkhMTMQHH3yAJk2aoEWLFnjw4AGysrKM3peRkQGNRlPpeVUqFdzc3IxeRERE1DDZrGspLCwMv/zyi9G2KVOmoFOnTnjllVfQunVrODg4ICEhAZGRkQCAlJQUXLt2DaGhobYImYiIiOoZmyUyrq6uCA4ONtrm4uKC5s2bG7ZPnToV8+bNg4eHB9zc3PD8888jNDQUDz30kC1CJiIionqmXq+19P7778POzg6RkZEoLCzE8OHDsWrVKluHRURERPWEQgghbB2ENWVnZ0OtVkOr1bJehoiISCbM/f62+TwyRERERDXFRIaIiIhki4kMERERyRYTGSIiIpItJjJEREQkW0xkiIiISLaYyBAREZFsMZEhIiIi2WIiQ0RERLLFRIaIiIhki4kMERERyRYTGSIiIpItJjJEREQkW0xkiIiISLaYyBAREZFsMZEhIiIi2WIiQ0RERLLFRIaIiIhki4kMERERyRYTGSIiIpItJjJEREQkW0xkiIiISLaYyBAREZFsMZEhIiIi2WIiQ0RERLLFRIaIiIhki4kMERERyRYTGSIiIpItJjJEREQkW0xkiIiISLaYyBAREZFsMZEhIiIi2WIiQ0RERLLFRIaIiIhki4kMERERyRYTGSIiIpItJjJEREQkW0xkiIiISLaYyBAREZFsMZEhIiIi2WIiQ0RERLLFRIaIiIhki4kMERERyRYTGSIiIpItJjJEREQkW0xkiIiISLaYyBAREZFsMZEhIiIi2WIiQ0RERLLFRIaIiIhki4kMERERyRYTGSIiIpItJjJEREQkW0xkiIiISLaYyBAREZFsMZEhIiIi2WIiQ0RERLLFRIaIiIhki4kMERERyRYTGSIiIpItJjJEREQkW0xkiIiISLaYyBAREZFs2TSRiYuLQ0hICNzc3ODm5obQ0FB8//33hv0FBQWIjo5G8+bN0bRpU0RGRiIjI8OGERMREVF9YtNEplWrVliyZAlOnDiBn3/+GUOGDMHo0aPx66+/AgDmzp2L+Ph4bNu2DYmJibh58ybGjh1ry5CJiIioHlEIIYStgyjLw8MD7777Lh5//HF4eXlh06ZNePzxxwEAFy5cQOfOnZGUlISHHnrIrPNlZ2dDrVZDq9XCzc3NmqETERGRhZj7/V1vamRKSkqwZcsW5OXlITQ0FCdOnEBRURHCw8MNx3Tq1Alt2rRBUlJSpecpLCxEdna20YuIiIgaJpsnMr/88guaNm0KlUqFGTNm4Ouvv0ZQUBDS09OhVCrh7u5udHyLFi2Qnp5e6fkWL14MtVpteLVu3drKV0BERES2YvNEpmPHjjh9+jSOHj2KmTNnIioqCsnJyTU+3/z586HVag2v69evWzBaIiIiqk+a2DoApVKJdu3aAQB69uyJ48ePY8WKFRg3bhwePHiArKwso1aZjIwMaDSaSs+nUqmgUqmsHTYRERHVAzZvkSlPp9OhsLAQPXv2hIODAxISEgz7UlJScO3aNYSGhtowQiIiIqovbNoiM3/+fIwYMQJt2rRBTk4ONm3ahP379+OHH36AWq3G1KlTMW/ePHh4eMDNzQ3PP/88QkNDzR6xRERERA2bTROZzMxMPP3000hLS4NarUZISAh++OEHDB06FADw/vvvw87ODpGRkSgsLMTw4cOxatUqW4ZMRERE9Ui9m0fG0jiPDBERkfzIbh4ZIiIiIqmYyBAREZFsMZEhIiIi2WIiQ0RERLLFRIaIiIhki4kMERERyRYTGSIiIpItJjJEREQkW0xkiIiISLaYyBAREZFsMZEhIiIi2WIiQ0RERLLFRIaIiIhki4kMERERyRYTGSIiIpItJjJEREQkW0xkiIiISLaYyBAREZFsMZEhIiIi2WIiQ0RERLLFRIaIiIhki4kMERERyRYTGSIiIpItJjJEREQkWzVKZD7//HP069cPvr6+uHr1KgBg+fLl2LFjh0WDIyIiIqqK5EQmLi4O8+bNw8iRI5GVlYWSkhIAgLu7O5YvX27p+IiIiIgqJTmR+fe//401a9bgtddeg729vWF7r1698Msvv1g0OCIiIqKqSE5kUlNT8ac//anCdpVKhby8PIsERURERGQOyYlMQEAATp8+XWH77t270blzZ0vERERERGSWJlLfMG/ePERHR6OgoABCCBw7dgybN2/G4sWLsXbtWmvESERERGSS5ETm2WefhZOTE/75z38iPz8fTz75JHx9fbFixQqMHz/eGjESERERmaQQQoiavjk/Px+5ubnw9va2ZEwWlZ2dDbVaDa1WCzc3N1uHQ0RERGYw9/tbcotMamoqiouL0b59ezg7O8PZ2RkAcPHiRTg4OMDf37/GQRMRERFJIbnYd/Lkyfjpp58qbD969CgmT55siZiIiIiIzCI5kTl16hT69etXYftDDz1kcjQTERERkbVITmQUCgVycnIqbNdqtYZZfomIiIjqguREZuDAgVi8eLFR0lJSUoLFixejf//+Fg2OiIiIqCqSi32XLl2KgQMHomPHjhgwYAAA4ODBg8jOzsbevXstHiARERFRZSS3yAQFBeHs2bN44oknkJmZiZycHDz99NO4cOECgoODrREjERERkUm1mkdGDjiPDBERkfxYdB6Zs2fPIjg4GHZ2djh79myVx4aEhEiLlIiIiKiGzEpkunfvjvT0dHh7e6N79+5QKBQw1ZCjUCg4comIiIjqjFmJTGpqKry8vAz/JiIiIqoPzEpk/Pz8AABFRUWIjY3F66+/joCAAKsGRkRERFQdSaOWHBwcsH37dmvFQkRERCSJ5OHXjz32GL755hsrhEJEREQkjeQJ8dq3b4+FCxfi8OHD6NmzJ1xcXIz2z54922LBEREREVVF8jwyVdXGKBQK/P7777UOypI4jwwRETU2JTqBY6l3kZlTAG9XR/QJ8IC9ncLWYUli0XlkyuKoJSIiovpr97k0xMYnI01bYNjmo3ZEzCNBiAj2sWFk1iEpkTly5Aji4+Px4MEDhIWFISIiwlpxERERkUS7z6Vh5saTKN/Vkq4twMyNJxE3qUeDS2bMLvb98ssv0a9fP6xYsQJr167FqFGj8N5771kzNiIiIjJTiU4gNj65QhIDwLAtNj4ZJbqGtTKR2YnM4sWLMW3aNGi1Wty7dw9vvfUWFi1aZM3YiIiIyEzHUu8adSeVJwCkaQtwLPVu3QVVB8xOZFJSUvDSSy/B3t4eAPDiiy8iJycHmZmZVguOiIiIzJOZU3kSU5Pj5MLsRCY/P9+oalipVMLR0RG5ublWCYyIiIjM5+3qaNHj5EJSse/atWvRtGlTw8/FxcXYsGEDPD09Dds4jwwREVHd6xPgAR+1I9K1BSbrZBQANOrSodgNidnzyPj7+0OhqHoMOueRISIish39qCUARsmM/ttbTqOWLD6PzJUrVywRFxER2UhDmCSNqhYR7IO4ST0qzCOj4TwyREQkZ41tkrTGLCLYB0ODNI0maZW8RIHcsGuJiBq7yiZJk2N3AzUe5n5/S179moiosSvRCSRdvoMdp28g6fKdej3BWGOdJI0aD3YtERFJILcuGimTpIUGNq+7wIgshC0yRNTo1LRFRd9FUz4x0K9js/tcmjXCrZXGOkkaNR5mJTLZ2dlmv6RYvHgxevfuDVdXV3h7e+Oxxx5DSkqK0TEFBQWIjo5G8+bN0bRpU0RGRiIjI0PS5xAR6e0+l4b+S/diwpojmLPlNCasOYL+S/dWm4TItYumsU6SRo2HWYmMu7s7mjVrZtZLisTERERHR+PIkSP48ccfUVRUhGHDhiEvL89wzNy5cxEfH49t27YhMTERN2/exNixY6VdJRERateiItd1bPSTpFU2XkWB0q6xhjZJGjUeZtXI7Nu3z/DvK1eu4NVXX8XkyZMRGhoKAEhKSsKnn36KxYsXS/rw3bt3G/28YcMGeHt748SJExg4cCC0Wi3WrVuHTZs2YciQIQCA9evXo3Pnzjhy5AgeeughSZ9HRI1XdS0qCpS2qAwN0pgcpirXLhp7OwViHgnCzI0noYDpSdJiHglqsENzqeEzK5EZNGiQ4d8LFy7EsmXLMGHCBMO2Rx99FF27dsXHH3+MqKioGgej1WoBAB4epX8ZnDhxAkVFRQgPDzcc06lTJ7Rp0wZJSUlMZIjIbLUtepVzF01jnCSNGg/Jo5aSkpKwevXqCtt79eqFZ599tsaB6HQ6vPDCC+jXrx+Cg4MBAOnp6VAqlXB3dzc6tkWLFkhPTzd5nsLCQhQWFhp+llq3Q0QNU21bVOS+jk1jmySNGg/Jo5Zat26NNWvWVNi+du1atG7dusaBREdH49y5c9iyZUuNzwGUFhCr1WrDqzYxEVHDUdsWFX0XDYAK9SZy6aKxt1MgNLA5RndvidDA5vU6ViJzSW6Ref/99xEZGYnvv/8effv2BQAcO3YMFy9exPbt22sUxKxZs7Br1y4cOHAArVq1MmzXaDR48OABsrKyjFplMjIyoNFoTJ5r/vz5mDdvnuHn7OxsJjNEZJEWFXbRENU/NVqi4Pr164iLi8OFCxcAAJ07d8aMGTMkJwxCCDz//PP4+uuvsX//frRv395ov1arhZeXFzZv3ozIyEgAQEpKCjp16mR2jQyXKCAiPUutDMzFF4msz9zvb5uutfTcc89h06ZN2LFjBzp27GjYrlar4eTkBACYOXMmvvvuO2zYsAFubm54/vnnAQA//fSTWZ/BRIaIypLbzLxEjZVVE5mDBw/io48+wu+//45t27ahZcuW+PzzzxEQEID+/fubfR6FwvRfMOvXr8fkyZMBlE6I9+KLL2Lz5s0oLCzE8OHDsWrVqkq7lspjIkNE5bFFhaj+M/f7W3KNzPbt2/HUU09h4sSJOHnypGGEkFarxaJFi/Ddd9+ZfS5zcihHR0esXLkSK1eulBoqEZFJ+qJXIpI/yaOW3nrrLaxevRpr1qyBg4ODYXu/fv1w8uRJiwZHRETSPCjWYd3B3/HGjnNYd/B3PCjW2TokIquS3CKTkpKCgQMHVtiuVquRlZVliZiIiKgGFn+XjDUHU1F2uae3vzuPaQMCMH9kkO0CI7IiyS0yGo0Gly5dqrD90KFDaNu2rUWCIiIiaRZ/l4yPDhgnMQCgE8BHB1Kx+Ltk2wRGZGWSE5lp06Zhzpw5OHr0KBQKBW7evIkvvvgCL730EmbOnGmNGImIqAoPinVYczC1ymPWHExlNxM1SJK7ll599VXodDqEhYUhPz8fAwcOhEqlwksvvWQYGk1ERHXn86QrFVpiytOJ0uOmDmDLOTUskhMZhUKB1157DS+//DIuXbqE3NxcBAUFoWnTptaIj4iIqnH1br5FjyOSE8ldS8888wxycnKgVCoRFBSEPn36oGnTpsjLy8MzzzxjjRiJiKgKfh7OFj2OSE4kJzKffvop7t+/X2H7/fv38dlnn1kkKCIiMt9Tof6obj4/O0XpcUQNjdmJTHZ2NrRaLYQQyMnJQXZ2tuF17949fPfdd/D29rZmrEREZIKyiR2mDQio8phpAwKgbCL5b1eies/sGhl3d3coFAooFAp06NChwn6FQoHY2FiLBkdERObRzxNTfh4ZOwU4jww1aGavtZSYmAghBIYMGYLt27fDw+N/S90rlUr4+fnB19fXaoHWFNdaIqLG5P6DEiz6LhlX7uTDv7kz/jEyCE5Ke1uHRSSZ1RaNvHr1Ktq0aVPpgo/1DRMZImosuLI3NSTmfn9L7jDdu3cvvvzyywrbt23bhk8//VTq6YionirRCSRdvoMdp28g6fIdlFQ3UQnZ1O5zaZi58aRREgMA6doCzNx4ErvPpdkoMiLrkjyPzOLFi/HRRx9V2O7t7Y3p06cjKirKIoERke1U9Zf90CANjqXeRWZOAbxdHdEnwAP21Q2ZIasq0QnExifDVKopACgAxMYnY2iQhr8ranAkJzLXrl1DQEDF6ng/Pz9cu3bNIkERke3o/7Iv/6WYri3AjI0n4e7sgKz8IsN2dl1UrkQn6iTpO5Z6t0JLTFkCQJq2AMdS7yI0sLnFP5/IliQnMt7e3jh79iz8/f2Ntp85cwbNm/M/ECI5q+4vewBGSQzwv66LuEk9mMyUUZf1Kpk5lScxNTmOSE4k18hMmDABs2fPxr59+1BSUoKSkhLs3bsXc+bMwfjx460RIxHVker+sjdFn+DExiezjub/1XW9irero0WPI5ITyYnMm2++ib59+yIsLAxOTk5wcnLCsGHDMGTIECxatMgaMRJRHanpX+xluy4aO3NatSyd9PUJ8ICP2hGVdVopUNoa1CfAo5IjiORLcteSUqnE1q1b8eabb+LMmTNwcnJC165d4efnZ434iKgO1fYv9qoSobqqF7E1W9Sr2NspEPNIEGZuPAkFYJRE6e9wzCNBDfJ+E0lOZPQ6dOhgcoZfIpIv/V/26doCky0K1aksEWpM85vYql4lItgHcZN6VLjPmgZ6n4n0zEpk5s2bhzfffBMuLi6YN29elccuW7bMIoERUd2r6i/7qihQ+oVpquuiqlFQDbFI2Jb1KhHBPhweT42OWYnMqVOnUFRUZPh3ZeQy2y8RVa6yv+z1w66ldF00xvlNqmvVqirpswR7OwWHWFOjYlYis2/fPpP/JqKGqbK/7H9MTpfUddEY5zdhvQpR3apxjQwRNWym/rKX2nXRWOc3Yb0KUd0xK5EZO3as2Sf86quvahwMEdV/UrouGvP8JqxXIaobZiUyarXa8G8hBL7++muo1Wr06tULAHDixAlkZWVJSniIqOGzdb2IrbFehcj6zEpk1q9fb/j3K6+8gieeeAKrV6+Gvb09AKCkpATPPfdclctsE1Hjw3oRIrI2hRBC0nQRXl5eOHToEDp27Gi0PSUlBX/+859x584diwZYW9nZ2VCr1dBqtUy0iGykMc0jQ0SWYe73t+Ri3+LiYly4cKFCInPhwgXodDrpkRJRg1eX9SKNZQZhIiolOZGZMmUKpk6disuXL6NPnz4AgKNHj2LJkiWYMmWKxQMkooahLupF2PJD1PhI7lrS6XR47733sGLFCqSlla7g6uPjgzlz5uDFF1801M3UF+xaImocKptBWN8WU9sZhNnSQ1S3zP3+lpzIlP8QAPU6QWAiQ9TwlegE+i/dW+nke/rRUYdeGVKj5IMtPUR1z9zvb7uanLy4uBh79uzB5s2bDcsS3Lx5E7m5uTWLloioFqTMICyVvqWn/Pn1a0XtPpcm+ZxEZDmSa2SuXr2KiIgIXLt2DYWFhRg6dChcXV2xdOlSFBYWYvXq1daIk4ioUtaaQbgxrhVFJDeSW2TmzJmDXr164d69e3BycjJsHzNmDBISEiwaHBGROaw1g7A1W3qIyDIkt8gcPHgQP/30E5RKpdF2f39/3Lhxw2KBERGZy1ozCDfWtaKI5ERyi4xOp0NJSUmF7X/88QdcXV0tEhQRkRT6GYSB/41S0qvNDMKNea0oIrmQnMgMGzYMy5cvN/ysUCiQm5uLmJgYjBw50pKxERGZTb/itEZtnFRo1I41Hnqtb+mpLP1RoHT0UkNdK4pIDiQPv75+/ToiIiIghMDFixfRq1cvXLx4EZ6enjhw4AC8vb2tFWuNcPg1UeNi6fle9KOWANNrRdV2fhoiMs2q88gUFxdj69atOHPmDHJzc9GjRw9MnDjRqPi3vmAiQ0S1xXlkiOqeVRKZoqIidOrUCbt27ULnzp0tEqi1MZEhIkvgzL5Edcsqi0Y6ODigoIDV+UTU+NTFWlFEJJ3kYt/o6GgsXboUxcXF1oiHiIiIyGyS55E5fvw4EhIS8N///hddu3aFi4uL0f6vvvrKYsERERERVUVyIuPu7o7IyEhrxEJEREQkieREZv369daIg4iIiEgys2tkdDodli5din79+qF379549dVXcf/+fWvGRkRERFQlsxOZt99+G//4xz/QtGlTtGzZEitWrEB0dLQ1YyMiIiKqktmJzGeffYZVq1bhhx9+wDfffIP4+Hh88cUX0Ol01oyPiIiIqFJmJzLXrl0zWkspPDwcCoUCN2/etEpgRERERNUxO5EpLi6Go6PxYmwODg4oKiqyeFBERERE5jB71JIQApMnT4ZKpTJsKygowIwZM4zmkuE8MkTyxWn4iUhuzE5koqKiKmybNGmSRYMhItvhwohEJEc1Wv1aTrhoJFH1dp9Lw8yNJ1H+fwb6tpi4ST2YzBBRnTL3+1vyWktE1LCU6ARi45MrJDEADNti45NRomvQf/MQkUwxkSFq5I6l3jXqTipPAEjTFuBY6t26C4qIyEySlyggKovFofKXmVN5ElOT4yyJzxcRVYeJDNUYi0MbBm9Xx+oPknCcpfD5IiJzsGuJakRfHFq+SyJdW4CZG09i97k0G0VGUvUJ8ICP2hGVtXMoAGjcVNAJgR2nbyDp8h2r18vw+SIiczGRIclYHNqw2NspEPNIEABUSGYUKP2dFhTrMHHtUczZchoT1hxB/6V7rZZM8PkiIimYyJBkDbk4tEQnkHT5Tp21PNQXEcE+iJvUAxq1cfeR2tkBAJCVbzyDtzVbRhry80VElscaGZKsPheH1kZjr8mICPbB0CCNobjW00WFF7edAVBxGRKB0taa2PhkDA3SWLQAt6E+X0RkHUxkGrmajAqpr8WhtVHZhHD6lgdLTwhX9r57uqgABXA7t9DmI3Ps7RQIDWwOAEi6fAfp2ea1jOjfYwkN8fkiIuuxaSJz4MABvPvuuzhx4gTS0tLw9ddf47HHHjPsF0IgJiYGa9asQVZWFvr164e4uDi0b9/edkE3IDVtgdAXh6ZrC0zWMSgAaNSlX8hyUF1NhqVbHkzd97I8XBwwpntLhAdpJCU1lh6qbKuWkYb2fBGRddm0RiYvLw/dunXDypUrTe5/55138MEHH2D16tU4evQoXFxcMHz4cBQUsEm5tmozKqS64lAAiHkkSDbzfdRlTUZl972su3lFWHf4iqSi2t3n0tB/6V5MWHPEYgW5tmoZaWjPFxFZl00TmREjRuCtt97CmDFjKuwTQmD58uX45z//idGjRyMkJASfffYZbt68iW+++abug21ALDEqpLLiUI3aUXbr8tRVy0NV970y5iSW1hqqbM6wbB8rtYw0pOeLiKyr3tbIpKamIj09HeHh4YZtarUaffv2RVJSEsaPH2/yfYWFhSgsLDT8nJ2dbfVY5UZKC0RVtQ/li0NtXd9RU3XV8lDdfTeluq4ta3aL6VtGZm48aRiGrVcXLSMN5fkiIuuqt8Ov09PTAQAtWrQw2t6iRQvDPlMWL14MtVpteLVu3dqqccqRJVsg9MWho7u3RGhgc1l+ydRVy0NNW3RMdW3ph4m//+NvVu0Ws3XLSEN4vojIuupti0xNzZ8/H/PmzTP8nJ2dzWSmHI4KMVZXLQ+1vZ/6RKi6YuGq3lsTbBkhovqs3iYyGo0GAJCRkQEfn//91ZeRkYHu3btX+j6VSgWVSmXt8GRNDqNCrLFYYFXnjAj2wfSBAVhzMBWizE1RKIBpAwIs0vJQ3X2vjrerY6XDxM15b22UHZZNRFSf1NtEJiAgABqNBgkJCYbEJTs7G0ePHsXMmTNtG5zM2br2oTqmWhw8XJR4a3QwhgfXrGWguqHmu8+l4eMDqRUSBJ0APjqQCmdlE8wa0r5W96Sq+14VfWLZ068ZBr27T1ISUx+SUiIia1IIIWw2B3tubi4uXboEAPjTn/6EZcuW4eGHH4aHhwfatGmDpUuXYsmSJfj0008REBCA119/HWfPnkVycjIcHc37CzM7OxtqtRparRZubm7WvBzZqY8z2VbX4uCitEfegxLDz+bEW9k59SnJyid74M1vq++q0bg5YsGjtb83UrqG9DHGTeoBtZMSE9YcMftzyr6Xo3yISG7M/f62aSKzf/9+PPzwwxW2R0VFYcOGDYYJ8T7++GNkZWWhf//+WLVqFTp06GD2ZzCRqZo1unBqE0v/pXsl1X5U92Vd3TkVKG3tuZP3wOzPs0RiYGpm34TzGfjm9E3cLRNL2URtx+kbmLPltNmfYeuklIioNmSRyNQFJjLykXT5jqQWh7KclfaYG94BUX/2h7LJ/wbj1eacpui7ag69MsQqCV9ViaW51zLr4UD0a+fFglwikjVzv7/rbY0MNQxSWnxqM7Im/0EJ3v7uPBZ/fx7TBgRg/sigWp/TFGutL6RXVVGtuUXac4d2ZAJDRI0GExmyGqk1OJYY7q0vzgWA+SODzD6nh4sD7uUVmV1Im5lTUOfdcvW9SJuIyBbq7YR4JG81mTa/T4AHPFyUFvn8NQdT8aBYh55+zao8p36yu4WPdJE0GujK7bxarW2kn9Bux+kbSLp8p8rlIMqy9QR1RET1DWtkyOLMKbCtrM7ku7NpeG7TSYvE8XiPljh8+U6VcQDA9IEB2HkmzexRRO7ODriXX1TpMaue/BNGhvhWut8So8XqU5E2EZE1mPv9zRYZsrjarCZtZ1dauGsJX568UWUcamcHjArxwccHUiUNha4u85+1+RS+O2u6ZcZSCzxy6n4iolJMZMgsUrpCarqWk/5LPr/MPDHWlJVfhF1n08zuUlI7OyCyR0tkVdEaA5TW6Ty3qWJSYolVx4mIyBiLfala1iraLXtcVV/ytuaiskdeYQmy8ovw5ckbZr+v/KrTllp1nIiI/octMg1UTYtJy6tp0W5Vq0kDFVeTru5L3pbyCmvWQlS++8ySq44TEVEptsg0QNW1oJhTKFqiEzhy+Q5e3f5LpV0hClRsdQDMW1Mop6AYb39b+t4+AR4N9su77HVx1XEiIstjItPAVLauULq2ADM2nsQjIRocvHgHWff/V+dRvpvI3LWAquoK0Q8TfvWrX0zWlOQWFuOTw1fwyeEr8FE7YnzvNjW63vqubFIih1XHiYjkholMA2JOMWn82fQK+/TdRHGTegBAlYs2mqJvdSjf0lNcrIO2msJYoDQZWr7nN7g7O0Cbb/6kdPWZqaSEE9oREVkeE5kGpKZ1JmW7iYQQkhMJb1dHSSs6V0b/5V5Zd5Q53BybILuguMYxWEJVSYm+par8vdJwgUciohphItOA1KbORN9NJJWP2hH38h4gepO0VhxTn38vvwhzw9tjy/HrNYrF0cEOMY90wYvbztQikv/Rj1YyRd/i8vqoILz5rbSkJCLYB0ODNJzQjojIApjINCC2KBL9S4gGb35ruWHT/p4uOPTKELz/42/4cN8lSe99uKM3fN2dLBRJ5aOVyra4RAT7YHiw9KSkqsUhiYjIfExkGpDqikmtYcPhqyiy4ARuni4q2Nsp0K+dp+REZtJDfnVyD8q3uDApISKyHc4j04Doi0kBVDmHS2V81I7QuKkkvdeSSQwAvLjtDHafS0OfAA+4OzmY/T53p9KcfNfZmxjfu7Wh1saUyD+1xJQ/+0mKq7mLEu8/0Q2bpz2EQ68MYS0LEVE9wUUjG6CaFt6uLjNqCah5wW1t6JOPuEk9kJKei/f3/GbW+9ydHYyGebs7lyZBZbeVH2a+Ys9Fs88PAJunPcSWFyKiOmLu9ze7lhqg8sWkV27nY/n/f2GbSk7cnR2wZGxXwxe8qVE1daXsCKrElx/G+p9Sq13bCECFY/TDvueGd4C/p7PJ2hV/T2dJsTXUSfuIiOSMiUwDVb5uo6OmaYXkxN3ZAVP+HIBZQ9oZfcHrE6G/bzuN7adu1mncwP9GUJ24eg9LxnbFjP9vIZJ6DgWALcev4dArQ0wW30otjuaMu0RE9Q8TmUbC1JDfnn7NcOLqPew6e9PQYgGUzkezJzndJklMWZk5BRjdvSVWT+qBBTuTkZ4trUWkukUYpRQGl18bioiI6gcmMo1I2Vaa3efSMOjdfRVaaICK3TS2om8BiQj2gavKARPXHa3ReSrrEio7025VFOCMu0RE9RVHLcmMJVa1rmxF66z8onqTxLg7NTFqAbmdV1jjc1XVJaSfaddHbfoYH7Uj4ib14CglIqJ6ii0yMlLdqtbmqGo9pvok634xfjiXjpEhpddVk/oUcxdhLNvtlp5dgLu5hfBwUUKjduKMu0RE9RwTGZmoalVr/YKP5iQzNV2PyRZmbT6JD/EnjAzxlTzRndRFGDmpHRGRPLFrSQbMWdU6Nj4ZJTpRbdeTnIYQ6wTw3KZT2H0uTfJkfxp2CRERNQpskZGB6lpR9KNzPtx7CVuOX6uy60mOQ4hj45MxNEhT6crRPmpHvD6qM5q5qLgIIxFRI8NERgbMbUUxNUutvuvphf+fGM7TRQWNm6Pkocy2VHYINVeOJiKispjIyEBtWlH0HUtlkxxnpX0tI6p7ZZM51rMQEZEea2RkQF/oaqk2h/wHJRY6U92RY5cYERFZHxMZGaiq0LWhd6gowFl1iYiockxkZEJf6KopN3GbRu2IF8La2ygq65I6hJqIiBof1sjIiKlC13t5hVi4K9nWoVmFRuJkf0RE1PgwkZGZ8uslRW86Ve9n6a2J10d1xuR+AWyJISKiKjGRkSm5LDUglX5ZASYxRERkDtbIyJSclhowF2tiiIhIKrbIyJSclhowF2tiiIhIKiYyFlCiEzjy+x0kXb4DQCC0rSceCmxuVqtCiU7UaJba32/lWiBy2/NwccDrf+kCjRtn6CUiIumYyNTS7nNpePWrX5CVX2TY9uG+y3B3dsCSsV2rbF3YfS7N5LpB1bVKlOgEPku6apkLqCMKwKieR5+uLBpT9T0iIiKqCmtkamH3uTTM2HjSKInRy8ovwoyNJ7H7XFql75258WSFOhf92kiVvQ8orY+5Z+Iz6xsXpT1WT+qB1ZXMf8PVqYmIqLbYIlNDJTqBBTurn79lwc5fMTRIY9RlUtWII4HS1gr9is+mulrkUh/z8VO90K+9JwBwoUciIrIKJjI1dCz1rlkrSKdnFxpWbi773qpGHAkYr/hcXuqtvBrFXFf0Q6gfKhM7F3okIiJrYCJTQ1JaRcofa+579ceVLQj+8dd07Pol3fxALaR8jUtVxwEcQk1ERHWDiUwNSVmN2dNFVaP3ers6miwIrmtT+/nju3PpFYqSH+3mg51n0oy2cwg1ERHVJSYyNdTTr5nZrRTll6juE+ABH7Uj0rUFlb6/hasSR3+/g+UJF2sXqAWEB2nwj1FBJmtc/h7RmbUvRERkM0xkaujE1XtmLw9wO7fQ6Gd7OwVeH9UZz206Vel7MnIe1IskRuOmMiQnpmpcWPtCRES2xESmhqTUyJTtSirRCXy49yI+OvC7NcKyuAWPdmELCxER1VtMZGrI3DqXJnbAukOX8ce9fNzMKsAnh3+H9n6xlaOzjLnh7VnrQkRE9RoTmRrS17lUV4RbrAP2nL+FPedv1VFklXt9VGd4uqrg6aLCi9vOICO78hodH7UjZg1pX6fxERERScWZfWvI3k6BmEeCytfx1mueriqM7t4S/dp7YsGjQQAq1CFD8f8vDp8mIiI5YCJTCxHBPpg+MMDWYZitbHdYRLAP4rh0ABERyRy7lmqhRCew80zlayLVJ81dlOgT4GG0LSLYh0sHEBGRrDGRqYXqlhqoT94cHWwyQeHwaSIikjN2LdWCXBZvDOvkhZEh7CoiIqKGh4lMLXg2VVV/UD3w7IBAW4dARERkFexaqoVjqXdsHUKV9KtQl6+NISIiaijYIlNDu8+lYUXCJZvGUFVNLlehJiKixoAtMjVQohOI2XHOpjG8Pqozngr1x/Erd7HxyFUc+O0W8h6UGPZzFWoiImoMmMjUwId7LyEj54FNY/B0VWHvhQzExicbjZxyd3LAlH7+mDWkPVtiiIiowWPXkkS7z6Xh/T2/2ToMXLmdh5kbT1YY/q29X4Tley7ix+R0G0VGRERUd5jISFCiE4iNT7ZpDAqUroO0+dg1k+sk6bfFxiejRFfZSkpEREQNAxMZCerLBHjje7dBenZhpfsFgDRtAY6l3q27oIiIiGyANTIS1MUEeO7ODnBsYo/07Iqfpa9/aePhZNa55DJhHxERUU0xkZGg7KKL1rJkbFfD+kfp2vs4fOk2fjyfCe39ImTdL8L7ey7Cw0Vp1rnqIl4iIiJbkkXX0sqVK+Hv7w9HR0f07dsXx44ds0kcfQI8oHZysNr554a3R0Swj2H9IyelPbafvAHt/SKj4+7lVT1iSl9Hw4nwiIiooav3iczWrVsxb948xMTE4OTJk+jWrRuGDx+OzMzMOo/F3k6B8M7eVjm3j9oRs4a0N/ysLyyuqqDXFE6ER0REjUm9T2SWLVuGadOmYcqUKQgKCsLq1avh7OyMTz75xCbxaNys011TPvEwt7DYw8W4hUijdkTcpB6cCI+IiBqFel0j8+DBA5w4cQLz5883bLOzs0N4eDiSkpJMvqewsBCFhf8b0ZOdnW3RmKwxoFnfpVSWuYW6r/+lCzRujsjMKYC3a2l3EltiiIiosajXiczt27dRUlKCFi1aGG1v0aIFLly4YPI9ixcvRmxsrNViauZsXqGtFG08nCtsM7dQV+PmiNDA5pYOiYiISBbqfdeSVPPnz4dWqzW8rl+/btHze7qqLHo+ALhroni3T4AHfNSOqKxthQW9RERE9TyR8fT0hL29PTIyMoy2Z2RkQKPRmHyPSqWCm5ub0cuSvK2QyHg0rXhOezsFYh4JAoAKyQwLeomIiErV60RGqVSiZ8+eSEhIMGzT6XRISEhAaGiobYKyQpFMZQXEEcE+iJvUAxq18X4W9BIREZWq1zUyADBv3jxERUWhV69e6NOnD5YvX468vDxMmTLFJvHczqt8aYCaqK57KCLYxzBBHgt6iYiIjNX7RGbcuHG4desW3njjDaSnp6N79+7YvXt3hQLgunLldr7FzqWAed1D+gnyiIiIyJhCCNGgl0jOzs6GWq2GVqutdb1MiU6g35K9JtdBqom54R0wJ7x99QcSERE1MuZ+f9frGpn65ljqXYslMQDg71lx2DURERGZj4mMBJZeTZqLOhIREdVOva+RqU88XSwz9FqB0pFHnAOGiIiodtgiI4UFBgpxDhgiIiLLYYuMBLdzpQ29dncuXdAxK7/IsE2jdkTMI0GcA4aIiMgCmMhIIKWmZfbD7TBnaAcA4BwwREREVsJERoI+AR5wdWyCnILiao/dkHQFc4Z24BwwREREVsQaGQns7RTo0aaZWcdmFxTjWOpdK0dERETUuDGRkcjLxAKPlbH0cG0iIiIyxkRGghKdwMGLt8w+nvPEEBERWRcTGQmOpd5FRo55I5c0birOE0NERGRlTGQkkNJVNKFPG45OIiIisjImMhJIWfna39PFipEQERERwETGbCU6gc3Hrpl9POtjiIiIrI+JjJmkrHzdzNmB9TFERER1gImMmaTUxwgrxkFERET/w0TGTFK6irLyizgZHhERUR1gImOmPgEe0LiZPxnenuR0K0ZDREREABMZs9nbKTChTxuzj193+Ap2n0uzYkRERETEREYCqUOqY+OTUaJjxQwREZG1MJGRQOqQ6jRtAWtliIiIrIiJjAR9Ajzgo3aElPl6uXAkERGR9TCRkcDeToGYR4IkvYcT4xEREVkPExmJIoJ9EDepBzRuVScoCgA+akdOjEdERGRFTGRqICLYB4dfHYK54e1N7td3PcU8EsSFI4mIiKyIiUwN2dspMCe8A1ZP6gEftXHrjEbtiLhJPRAR7GOj6IiIiBqHJrYOQO4ign0wNEiDY6l3kZlTAG/X0u4ktsQQERFZHxMZC7C3UyA0sLmtwyAiImp02LVEREREssVEhoiIiGSLiQwRERHJFhMZIiIiki0mMkRERCRbTGSIiIhItpjIEBERkWwxkSEiIiLZYiJDREREstXgZ/YVQgAAsrOzbRwJERERmUv/va3/Hq9Mg09kcnJyAACtW7e2cSREREQkVU5ODtRqdaX7FaK6VEfmdDodbt68CVdXVygUllnIMTs7G61bt8b169fh5uZmkXPKTWO/B439+gHeA4D3oLFfP8B7YM3rF0IgJycHvr6+sLOrvBKmwbfI2NnZoVWrVlY5t5ubW6N8cMtq7PegsV8/wHsA8B409usHeA+sdf1VtcTosdiXiIiIZIuJDBEREckWE5kaUKlUiImJgUqlsnUoNtPY70Fjv36A9wDgPWjs1w/wHtSH62/wxb5ERETUcLFFhoiIiGSLiQwRERHJFhMZIiIiki0mMkRERCRbTGRqYOXKlfD394ejoyP69u2LY8eO2TqkOrFgwQIoFAqjV6dOnWwdllUdOHAAjzzyCHx9faFQKPDNN98Y7RdC4I033oCPjw+cnJwQHh6Oixcv2iZYK6nuHkyePLnCcxEREWGbYK1g8eLF6N27N1xdXeHt7Y3HHnsMKSkpRscUFBQgOjoazZs3R9OmTREZGYmMjAwbRWxZ5lz/4MGDKzwDM2bMsFHElhcXF4eQkBDDpG+hoaH4/vvvDfsb8u9fr7p7YMtngImMRFu3bsW8efMQExODkydPolu3bhg+fDgyMzNtHVqd6NKlC9LS0gyvQ4cO2Tokq8rLy0O3bt2wcuVKk/vfeecdfPDBB1i9ejWOHj0KFxcXDB8+HAUFBXUcqfVUdw8AICIiwui52Lx5cx1GaF2JiYmIjo7GkSNH8OOPP6KoqAjDhg1DXl6e4Zi5c+ciPj4e27ZtQ2JiIm7evImxY8faMGrLMef6AWDatGlGz8A777xjo4gtr1WrVliyZAlOnDiBn3/+GUOGDMHo0aPx66+/AmjYv3+96u4BYMNnQJAkffr0EdHR0YafS0pKhK+vr1i8eLENo6obMTExolu3brYOw2YAiK+//trws06nExqNRrz77ruGbVlZWUKlUonNmzfbIELrK38PhBAiKipKjB492ibx2EJmZqYAIBITE4UQpb9zBwcHsW3bNsMx58+fFwBEUlKSrcK0mvLXL4QQgwYNEnPmzLFdUDbQrFkzsXbt2kb3+y9Lfw+EsO0zwBYZCR48eIATJ04gPDzcsM3Ozg7h4eFISkqyYWR15+LFi/D19UXbtm0xceJEXLt2zdYh2UxqairS09ONnge1Wo2+ffs2mudBb//+/fD29kbHjh0xc+ZM3Llzx9YhWY1WqwUAeHh4AABOnDiBoqIio+egU6dOaNOmTYN8Dspfv94XX3wBT09PBAcHY/78+cjPz7dFeFZXUlKCLVu2IC8vD6GhoY3u9w9UvAd6tnoGGvyikZZ0+/ZtlJSUoEWLFkbbW7RogQsXLtgoqrrTt29fbNiwAR07dkRaWhpiY2MxYMAAnDt3Dq6urrYOr86lp6cDgMnnQb+vMYiIiMDYsWMREBCAy5cv4x//+AdGjBiBpKQk2Nvb2zo8i9LpdHjhhRfQr18/BAcHAyh9DpRKJdzd3Y2ObYjPganrB4Ann3wSfn5+8PX1xdmzZ/HKK68gJSUFX331lQ2jtaxffvkFoaGhKCgoQNOmTfH1118jKCgIp0+fbjS//8ruAWDbZ4CJDJltxIgRhn+HhISgb9++8PPzw3/+8x9MnTrVhpGRLY0fP97w765duyIkJASBgYHYv38/wsLCbBiZ5UVHR+PcuXMNvjasMpVd//Tp0w3/7tq1K3x8fBAWFobLly8jMDCwrsO0io4dO+L06dPQarX48ssvERUVhcTERFuHVacquwdBQUE2fQbYtSSBp6cn7O3tK1SjZ2RkQKPR2Cgq23F3d0eHDh1w6dIlW4diE/rfOZ8HY23btoWnp2eDey5mzZqFXbt2Yd++fWjVqpVhu0ajwYMHD5CVlWV0fEN7Diq7flP69u0LAA3qGVAqlWjXrh169uyJxYsXo1u3blixYkWj+f0Dld8DU+ryGWAiI4FSqUTPnj2RkJBg2KbT6ZCQkGDUT9hY5Obm4vLly/Dx8bF1KDYREBAAjUZj9DxkZ2fj6NGjjfJ50Pvjjz9w586dBvNcCCEwa9YsfP3119i7dy8CAgKM9vfs2RMODg5Gz0FKSgquXbvWIJ6D6q7flNOnTwNAg3kGTNHpdCgsLGzwv/+q6O+BKXX6DNikxFjGtmzZIlQqldiwYYNITk4W06dPF+7u7iI9Pd3WoVndiy++KPbv3y9SU1PF4cOHRXh4uPD09BSZmZm2Ds1qcnJyxKlTp8SpU6cEALFs2TJx6tQpcfXqVSGEEEuWLBHu7u5ix44d4uzZs2L06NEiICBA3L9/38aRW05V9yAnJ0e89NJLIikpSaSmpoo9e/aIHj16iPbt24uCggJbh24RM2fOFGq1Wuzfv1+kpaUZXvn5+YZjZsyYIdq0aSP27t0rfv75ZxEaGipCQ0NtGLXlVHf9ly5dEgsXLhQ///yzSE1NFTt27BBt27YVAwcOtHHklvPqq6+KxMREkZqaKs6ePSteffVVoVAoxH//+18hRMP+/etVdQ9s/QwwkamBf//736JNmzZCqVSKPn36iCNHjtg6pDoxbtw44ePjI5RKpWjZsqUYN26cuHTpkq3Dsqp9+/YJABVeUVFRQojSIdivv/66aNGihVCpVCIsLEykpKTYNmgLq+oe5Ofni2HDhgkvLy/h4OAg/Pz8xLRp0xpUYm/q2gGI9evXG465f/++eO6550SzZs2Es7OzGDNmjEhLS7Nd0BZU3fVfu3ZNDBw4UHh4eAiVSiXatWsnXn75ZaHVam0buAU988wzws/PTyiVSuHl5SXCwsIMSYwQDfv3r1fVPbD1M6AQQgjrt/sQERERWR5rZIiIiEi2mMgQERGRbDGRISIiItliIkNERESyxUSGiIiIZIuJDBEREckWExkiIiKSLSYyRCRrCoUC33zzjcXP6+/vj+XLl1v8vERkWUxkiMgsSUlJsLe3x6hRoyS/15ZJweTJk6FQKKBQKAyL3i1cuBDFxcVVvu/48eNGK/oSUf3ERIaIzLJu3To8//zzOHDgAG7evGnrcCSJiIhAWloaLl68iBdffBELFizAu+++a/LYBw8eAAC8vLzg7Oxcl2ESUQ0wkSGiauXm5mLr1q2YOXMmRo0ahQ0bNlQ4Jj4+Hr1794ajoyM8PT0xZswYAMDgwYNx9epVzJ0719AyAgALFixA9+7djc6xfPly+Pv7G34+fvw4hg4dCk9PT6jVagwaNAgnT56UHL9KpYJGo4Gfnx9mzpyJ8PBw7Ny5E0Bpi81jjz2Gt99+G76+vujYsSOAiq1IWVlZ+Nvf/oYWLVrA0dERwcHB2LVrl2H/oUOHMGDAADg5OaF169aYPXs28vLyJMdKRNIwkSGiav3nP/9Bp06d0LFjR0yaNAmffPIJyi7T9u2332LMmDEYOXIkTp06hYSEBPTp0wcA8NVXX6FVq1ZYuHAh0tLSkJaWZvbn5uTkICoqCocOHcKRI0fQvn17jBw5Ejk5ObW6HicnJ0PLCwAkJCQgJSUFP/74o1FyoqfT6TBixAgcPnwYGzduRHJyMpYsWQJ7e3sAwOXLlxEREYHIyEicPXsWW7duxaFDhzBr1qxaxUlE1Wti6wCIqP5bt24dJk2aBKC0m0ar1SIxMRGDBw8GALz99tsYP348YmNjDe/p1q0bAMDDwwP29vZwdXWFRqOR9LlDhgwx+vnjjz+Gu7s7EhMT8Ze//EXydQghkJCQgB9++AHPP/+8YbuLiwvWrl0LpVJp8n179uzBsWPHcP78eXTo0AEA0LZtW8P+xYsXY+LEiXjhhRcAAO3bt8cHH3yAQYMGIS4uDo6OjpJjJSLzsEWGiKqUkpKCY8eOYcKECQCAJk2aYNy4cVi3bp3hmNOnTyMsLMzin52RkYFp06ahffv2UKvVcHNzQ25uLq5duybpPLt27ULTpk3h6OiIESNGYNy4cViwYIFhf9euXStNYoDS62vVqpUhiSnvzJkz2LBhA5o2bWp4DR8+HDqdDqmpqZJiJSJp2CJDRFVat24diouL4evra9gmhIBKpcKHH34ItVoNJycnyee1s7Mz6p4CgKKiIqOfo6KicOfOHaxYsQJ+fn5QqVQIDQ016hYyx8MPP4y4uDgolUr4+vqiSRPj//W5uLhU+f7qri83Nxd/+9vfMHv27Ar72rRpIylWIpKGiQwRVaq4uBifffYZ/vWvf2HYsGFG+x577DFs3rwZM2bMQEhICBISEjBlyhST51EqlSgpKTHa5uXlhfT0dAghDAXAp0+fNjrm8OHDWLVqFUaOHAkAuH79Om7fvi35OlxcXNCuXTvJ79MLCQnBH3/8gd9++81kq0yPHj2QnJxcq88gopph1xIRVWrXrl24d+8epk6diuDgYKNXZGSkoXspJiYGmzdvRkxMDM6fP49ffvkFS5cuNZzH398fBw4cwI0bNwyJyODBg3Hr1i288847uHz5MlauXInvv//e6PPbt2+Pzz//HOfPn8fRo0cxceLEGrX+1NagQYMwcOBAREZG4scff0Rqaiq+//577N69GwDwyiuv4KeffsKsWbNw+vRpXLx4ETt27GCxL1EdYCJDRJVat24dwsPDoVarK+yLjIzEzz//jLNnz2Lw4MHYtm0bdu7cie7du2PIkCE4duyY4diFCxfiypUrCAwMhJeXFwCgc+fOWLVqFVauXIlu3brh2LFjeOmllyp8/r1799CjRw889dRTmD17Nry9va170ZXYvn07evfujQkTJiAoKAh///vfDa1MISEhSExMxG+//YYBAwbgT3/6E9544w2j7jgisg6FKN9JTURERCQTbJEhIiIi2WIiQ0RERLLFRIaIiIhki4kMERERyRYTGSIiIpItJjJEREQkW0xkiIiISLaYyBAREZFsMZEhIiIi2WIiQ0RERLLFRIaIiIhki4kMERERydb/AbUOrRmzmu4DAAAAAElFTkSuQmCC\n"
          },
          "metadata": {}
        }
      ]
    },
    {
      "cell_type": "code",
      "source": [
        "#prediction on test data\n",
        "test_data_prediction = linear_reg_model.predict(X_test)\n"
      ],
      "metadata": {
        "id": "Wuw1h1gF8qVl"
      },
      "execution_count": 19,
      "outputs": []
    },
    {
      "cell_type": "code",
      "source": [
        "# R squared Error\n",
        "error_score = metrics.r2_score(Y_test, test_data_prediction)\n",
        "print(\"R squared Error : \", error_score)"
      ],
      "metadata": {
        "colab": {
          "base_uri": "https://localhost:8080/"
        },
        "id": "7GGygRR29Hle",
        "outputId": "acfdc463-c187-451d-acac-6166ec08a95b"
      },
      "execution_count": 20,
      "outputs": [
        {
          "output_type": "stream",
          "name": "stdout",
          "text": [
            "R squared Error :  0.8365861023210703\n"
          ]
        }
      ]
    },
    {
      "cell_type": "code",
      "source": [
        "plt.scatter(Y_test, test_data_prediction)\n",
        "plt.xlabel(\"Actual Price\")\n",
        "plt.ylabel(\"Predicted Price\")\n",
        "plt.title(\" Actual Prices VS Predicted Prices\")\n",
        "plt.show()"
      ],
      "metadata": {
        "colab": {
          "base_uri": "https://localhost:8080/",
          "height": 472
        },
        "id": "y3oaeF_J9UGJ",
        "outputId": "e708aa9c-7cb5-40a4-f32e-bbf6bf7e7070"
      },
      "execution_count": 21,
      "outputs": [
        {
          "output_type": "display_data",
          "data": {
            "text/plain": [
              "<Figure size 640x480 with 1 Axes>"
            ],
            "image/png": "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\n"
          },
          "metadata": {}
        }
      ]
    },
    {
      "cell_type": "markdown",
      "source": [
        "Lasso Regression"
      ],
      "metadata": {
        "id": "hMwgYT0j9qD0"
      }
    },
    {
      "cell_type": "code",
      "source": [],
      "metadata": {
        "id": "8_b5iFlx9eWr"
      },
      "execution_count": null,
      "outputs": []
    },
    {
      "cell_type": "code",
      "source": [
        "#loading LAsso Regression\n",
        "lasso_reg_model = Lasso()\n"
      ],
      "metadata": {
        "id": "wTuMTZjT-MqA"
      },
      "execution_count": 22,
      "outputs": []
    },
    {
      "cell_type": "code",
      "source": [
        "lasso_reg_model.fit(X_train, Y_train)\n"
      ],
      "metadata": {
        "colab": {
          "base_uri": "https://localhost:8080/",
          "height": 74
        },
        "outputId": "72e90316-8782-473c-cb88-c60ea6fb16cc",
        "id": "kIpT-NFQ-MqB"
      },
      "execution_count": 23,
      "outputs": [
        {
          "output_type": "execute_result",
          "data": {
            "text/plain": [
              "Lasso()"
            ],
            "text/html": [
              "<style>#sk-container-id-2 {color: black;background-color: white;}#sk-container-id-2 pre{padding: 0;}#sk-container-id-2 div.sk-toggleable {background-color: white;}#sk-container-id-2 label.sk-toggleable__label {cursor: pointer;display: block;width: 100%;margin-bottom: 0;padding: 0.3em;box-sizing: border-box;text-align: center;}#sk-container-id-2 label.sk-toggleable__label-arrow:before {content: \"▸\";float: left;margin-right: 0.25em;color: #696969;}#sk-container-id-2 label.sk-toggleable__label-arrow:hover:before {color: black;}#sk-container-id-2 div.sk-estimator:hover label.sk-toggleable__label-arrow:before {color: black;}#sk-container-id-2 div.sk-toggleable__content {max-height: 0;max-width: 0;overflow: hidden;text-align: left;background-color: #f0f8ff;}#sk-container-id-2 div.sk-toggleable__content pre {margin: 0.2em;color: black;border-radius: 0.25em;background-color: #f0f8ff;}#sk-container-id-2 input.sk-toggleable__control:checked~div.sk-toggleable__content {max-height: 200px;max-width: 100%;overflow: auto;}#sk-container-id-2 input.sk-toggleable__control:checked~label.sk-toggleable__label-arrow:before {content: \"▾\";}#sk-container-id-2 div.sk-estimator input.sk-toggleable__control:checked~label.sk-toggleable__label {background-color: #d4ebff;}#sk-container-id-2 div.sk-label input.sk-toggleable__control:checked~label.sk-toggleable__label {background-color: #d4ebff;}#sk-container-id-2 input.sk-hidden--visually {border: 0;clip: rect(1px 1px 1px 1px);clip: rect(1px, 1px, 1px, 1px);height: 1px;margin: -1px;overflow: hidden;padding: 0;position: absolute;width: 1px;}#sk-container-id-2 div.sk-estimator {font-family: monospace;background-color: #f0f8ff;border: 1px dotted black;border-radius: 0.25em;box-sizing: border-box;margin-bottom: 0.5em;}#sk-container-id-2 div.sk-estimator:hover {background-color: #d4ebff;}#sk-container-id-2 div.sk-parallel-item::after {content: \"\";width: 100%;border-bottom: 1px solid gray;flex-grow: 1;}#sk-container-id-2 div.sk-label:hover label.sk-toggleable__label {background-color: #d4ebff;}#sk-container-id-2 div.sk-serial::before {content: \"\";position: absolute;border-left: 1px solid gray;box-sizing: border-box;top: 0;bottom: 0;left: 50%;z-index: 0;}#sk-container-id-2 div.sk-serial {display: flex;flex-direction: column;align-items: center;background-color: white;padding-right: 0.2em;padding-left: 0.2em;position: relative;}#sk-container-id-2 div.sk-item {position: relative;z-index: 1;}#sk-container-id-2 div.sk-parallel {display: flex;align-items: stretch;justify-content: center;background-color: white;position: relative;}#sk-container-id-2 div.sk-item::before, #sk-container-id-2 div.sk-parallel-item::before {content: \"\";position: absolute;border-left: 1px solid gray;box-sizing: border-box;top: 0;bottom: 0;left: 50%;z-index: -1;}#sk-container-id-2 div.sk-parallel-item {display: flex;flex-direction: column;z-index: 1;position: relative;background-color: white;}#sk-container-id-2 div.sk-parallel-item:first-child::after {align-self: flex-end;width: 50%;}#sk-container-id-2 div.sk-parallel-item:last-child::after {align-self: flex-start;width: 50%;}#sk-container-id-2 div.sk-parallel-item:only-child::after {width: 0;}#sk-container-id-2 div.sk-dashed-wrapped {border: 1px dashed gray;margin: 0 0.4em 0.5em 0.4em;box-sizing: border-box;padding-bottom: 0.4em;background-color: white;}#sk-container-id-2 div.sk-label label {font-family: monospace;font-weight: bold;display: inline-block;line-height: 1.2em;}#sk-container-id-2 div.sk-label-container {text-align: center;}#sk-container-id-2 div.sk-container {/* jupyter's `normalize.less` sets `[hidden] { display: none; }` but bootstrap.min.css set `[hidden] { display: none !important; }` so we also need the `!important` here to be able to override the default hidden behavior on the sphinx rendered scikit-learn.org. See: https://github.com/scikit-learn/scikit-learn/issues/21755 */display: inline-block !important;position: relative;}#sk-container-id-2 div.sk-text-repr-fallback {display: none;}</style><div id=\"sk-container-id-2\" class=\"sk-top-container\"><div class=\"sk-text-repr-fallback\"><pre>Lasso()</pre><b>In a Jupyter environment, please rerun this cell to show the HTML representation or trust the notebook. <br />On GitHub, the HTML representation is unable to render, please try loading this page with nbviewer.org.</b></div><div class=\"sk-container\" hidden><div class=\"sk-item\"><div class=\"sk-estimator sk-toggleable\"><input class=\"sk-toggleable__control sk-hidden--visually\" id=\"sk-estimator-id-2\" type=\"checkbox\" checked><label for=\"sk-estimator-id-2\" class=\"sk-toggleable__label sk-toggleable__label-arrow\">Lasso</label><div class=\"sk-toggleable__content\"><pre>Lasso()</pre></div></div></div></div></div>"
            ]
          },
          "metadata": {},
          "execution_count": 23
        }
      ]
    },
    {
      "cell_type": "markdown",
      "source": [
        "Model Evaluation"
      ],
      "metadata": {
        "id": "baZ_wpqj-MqB"
      }
    },
    {
      "cell_type": "code",
      "source": [
        "#predication on training data\n",
        "training_data_prediction = lasso_reg_model.predict(X_train)"
      ],
      "metadata": {
        "id": "FP4gMapr-MqC"
      },
      "execution_count": 24,
      "outputs": []
    },
    {
      "cell_type": "code",
      "source": [
        "# R squared Error\n",
        "error_score = metrics.r2_score(Y_train, training_data_prediction)\n",
        "print(\"R squared Error : \", error_score)"
      ],
      "metadata": {
        "colab": {
          "base_uri": "https://localhost:8080/"
        },
        "outputId": "094eb843-0123-4c1f-f6b8-f62f3be503a1",
        "id": "RK4_CH1L-MqC"
      },
      "execution_count": 25,
      "outputs": [
        {
          "output_type": "stream",
          "name": "stdout",
          "text": [
            "R squared Error :  0.8424480718240743\n"
          ]
        }
      ]
    },
    {
      "cell_type": "code",
      "source": [],
      "metadata": {
        "id": "zktr8KE0-MqC"
      },
      "execution_count": null,
      "outputs": []
    },
    {
      "cell_type": "markdown",
      "source": [
        "Visualize the actual price and predicted price"
      ],
      "metadata": {
        "id": "ZF-bJYVL-MqD"
      }
    },
    {
      "cell_type": "code",
      "source": [
        "plt.scatter(Y_train, training_data_prediction)\n",
        "plt.xlabel(\"Actual Price\")\n",
        "plt.ylabel(\"Predicted Price\")\n",
        "plt.title(\" Actual Prices VS Predicted Prices\")\n",
        "plt.show()"
      ],
      "metadata": {
        "colab": {
          "base_uri": "https://localhost:8080/",
          "height": 472
        },
        "outputId": "0efcdb34-379d-4f91-ecdb-1796b6d867a5",
        "id": "rhnHHzWs-MqD"
      },
      "execution_count": 26,
      "outputs": [
        {
          "output_type": "display_data",
          "data": {
            "text/plain": [
              "<Figure size 640x480 with 1 Axes>"
            ],
            "image/png": "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\n"
          },
          "metadata": {}
        }
      ]
    },
    {
      "cell_type": "code",
      "source": [
        "#prediction on test data\n",
        "test_data_prediction = lasso_reg_model.predict(X_test)\n"
      ],
      "metadata": {
        "id": "iFlhE8wu-MqD"
      },
      "execution_count": 27,
      "outputs": []
    },
    {
      "cell_type": "code",
      "source": [
        "# R squared Error\n",
        "error_score = metrics.r2_score(Y_test, test_data_prediction)\n",
        "print(\"R squared Error : \", error_score)"
      ],
      "metadata": {
        "colab": {
          "base_uri": "https://localhost:8080/"
        },
        "outputId": "cf9ac1a0-0787-4852-dc93-f75ecc814086",
        "id": "5ELzoxa0-MqD"
      },
      "execution_count": 28,
      "outputs": [
        {
          "output_type": "stream",
          "name": "stdout",
          "text": [
            "R squared Error :  0.8709763132343395\n"
          ]
        }
      ]
    },
    {
      "cell_type": "code",
      "source": [
        "plt.scatter(Y_test, test_data_prediction)\n",
        "plt.xlabel(\"Actual Price\")\n",
        "plt.ylabel(\"Predicted Price\")\n",
        "plt.title(\" Actual Prices VS Predicted Prices\")\n",
        "plt.show()"
      ],
      "metadata": {
        "colab": {
          "base_uri": "https://localhost:8080/",
          "height": 472
        },
        "outputId": "3167214f-12d8-4f9b-98da-0eca449298b9",
        "id": "x3ovDpOV-MqD"
      },
      "execution_count": 29,
      "outputs": [
        {
          "output_type": "display_data",
          "data": {
            "text/plain": [
              "<Figure size 640x480 with 1 Axes>"
            ],
            "image/png": "iVBORw0KGgoAAAANSUhEUgAAAjsAAAHHCAYAAABZbpmkAAAAOXRFWHRTb2Z0d2FyZQBNYXRwbG90bGliIHZlcnNpb24zLjcuMSwgaHR0cHM6Ly9tYXRwbG90bGliLm9yZy/bCgiHAAAACXBIWXMAAA9hAAAPYQGoP6dpAABHuElEQVR4nO3deXxTVf7/8XdaaFNKCbKUtoJQKiKlgLIOoqCALDK44QKCAi4oFgEZHWQcrUWh4sLgWgQUFwTRcaM61kFkUBigaAXkyyqWRWgBWVIWWyC5vz/4NUPolrRpk1xez8cjjwe9uTf3k0v1vjnn3HMshmEYAgAAMKkQfxcAAABQlQg7AADA1Ag7AADA1Ag7AADA1Ag7AADA1Ag7AADA1Ag7AADA1Ag7AADA1Ag7AADA1Ag7QDW6+uqrdfXVV1f5eXbs2CGLxaK33367ys+F0j311FOyWCxu25o1a6YRI0b4p6ASlFRjVQm0747zB2EHQWvTpk2yWCyyWq06cuRIhT9n6tSp+uyzz3xWly80a9ZMFovF9YqOjtZVV12lTz/91N+lVdj06dNlsVj0zTfflLrP7NmzZbFYtGjRIkmS0+nUu+++qy5duqhevXqKiorSJZdcorvuukurVq0q95xnX8OQkBDFxcWpT58++s9//uOrr1Ut9u7dq6eeekpr1671Ww0jRoxwu5516tRRu3bt9OKLL6qwsNBvdQGeqOHvAoCKmjdvnmJiYnT48GH985//1L333luhz5k6dapuueUW3Xjjjb4tsJIuu+wy/eUvf5F05mb3xhtv6Oabb1Z6eroeeOCBMo9t2rSp/vjjD9WsWbM6SvXI4MGD9eijj2r+/Pnq3bt3ifvMnz9f9evXV//+/SVJY8eO1WuvvaYbbrhBQ4cOVY0aNbRlyxZ99dVXat68uf70pz+Ve95rr71Wd911lwzDUE5Ojl5//XX17NlTX375pes81WnLli0KCfHu35l79+5VamqqmjVrpssuu6xqCvNAeHi45syZI0k6cuSIPv74Yz3yyCNas2aNPvjgg3KPr8h3B3zCAIKQ0+k0mjVrZkyYMMG46aabjKuvvrrCnxUZGWkMHz7cd8WVoUePHkaPHj3K3a9p06bGgAED3Lbl5uYakZGRxiWXXFLqcadOnTIKCwsrW2aV6dWrl2Gz2YyCgoJi7/32229GSEiI8cADDxiGYRh5eXmGxWIx7rvvvmL7Op1OY9++feWeT5KRnJzstm39+vWGJKNPnz6lHvfHH38YDoej3M8vT0pKiuGL/82uWbPGkGTMnTu30p91Lk9rHD58uBEZGem2zeFwGB07djQkGXv27CnxOKfTaZw4ccIntQIVRcRGUFqxYoV27NihwYMHa/Dgwfruu+/022+/FdvP6XTqpZdeUps2bWS1WtWwYUP169dPP/zwg6Qz3RzHjx/XO++842qeLxpTMGLECDVr1qzYZ5Y0xmHu3Lnq2bOnoqOjFR4ersTERKWnp/v0O8fExKhVq1bKycmR9L9xOS+88IJmzJihhIQEhYeHa+PGjaWO2dm8ebNuu+02NWzYUBEREWrZsqUef/xxt3327Nmju+++W40aNVJ4eLhat26tt956q1g9r7zyilq3bq1atWrpggsuUMeOHTV//vwyv8OwYcNkt9v15ZdfFnvvgw8+kNPp1NChQyVJOTk5MgxD3bp1K7ZvUddeRbRp00YNGjRwXcf//Oc/slgs+uCDD/T3v/9dF154oWrVqqX8/HxJ0urVq9WvXz/ZbDbVqlVLPXr00IoVK4p97vLly9WpUydZrVYlJCTojTfeKPH8JY1bOXLkiB5++GE1a9ZM4eHhaty4se666y79/vvv+s9//qNOnTpJkkaOHOn6PT3779bXNXoqJCTENQZtx44dru/35z//WV9//bU6duyoiIgI13m8/e5FCgsLlZKSoosvvljh4eFq0qSJ/vrXvxbrPlu8eLGuvPJK1a1bV7Vr11bLli31t7/9rVLfEeZANxaC0vvvv6+EhAR16tRJSUlJqlWrlhYsWKBHH33Ubb977rlHb7/9tvr37697771Xp0+f1vfff69Vq1apY8eOeu+993Tvvfeqc+fOGjVqlCQpISHB63rS09PVunVrXX/99apRo4YyMjL04IMPyul0Kjk52Sff+dSpU9q9e7fq16/vtn3u3LkqKCjQqFGjFB4ernr16snpdBY7fv369brqqqtUs2ZNjRo1Ss2aNdP27duVkZGhKVOmSJL27dunP/3pT7JYLBozZowaNmyor776Svfcc4/y8/M1fvx4SWfG1owdO1a33HKLxo0bp4KCAq1fv16rV6/WHXfcUep3uPnmmzV69GjNnz9fN998s9t78+fPV9OmTV3hpmnTppKkjz76SLfeeqtq1apV4Wt3tsOHD+vw4cO6+OKL3bY//fTTCgsL0yOPPKLCwkKFhYXp22+/Vf/+/dWhQwelpKQoJCTEFWy///57de7cWZL0888/q0+fPmrYsKGeeuopnT59WikpKWrUqFG59Rw7dkxXXXWVNm3apLvvvlvt27fX77//rkWLFum3335Tq1atNHnyZD355JMaNWqUrrrqKknSFVdcIUnVUmNZtm/fLkluv5dbtmzRkCFDdP/99+u+++5Ty5YtK/TdGzRoIKfTqeuvv17Lly/XqFGj1KpVK/3888/6xz/+oa1bt7rG2/3f//2f/vznP6tt27aaPHmywsPD9csvv5QY+nAe8nfTEuCtkydPGvXr1zcef/xx17Y77rjDaNeundt+3377rSHJGDt2bLHPcDqdrj+X1o01fPhwo2nTpsW2l9TsX1Izfd++fY3mzZu7bfOmG6tPnz7GgQMHjAMHDhjr1q0zBg8ebEgyHnroIcMwDCMnJ8eQZNSpU8fYv3+/2/FF753d7dG9e3cjKirK2Llzp9u+Z1+Le+65x4iNjTV+//13t30GDx5s2Gw21/e84YYbjNatW5f7PUpy6623Glar1bDb7a5tmzdvNiQZkyZNctv3rrvuMiQZF1xwgXHTTTcZL7zwgrFp0yaPzyXJuOeee4wDBw4Y+/fvN1avXm306tXLkGS8+OKLhmEYxtKlSw1JRvPmzd3+Hp1Op9GiRQujb9++btfoxIkTRnx8vHHttde6tt14442G1Wp1u7YbN240QkNDi/2uNG3a1O337cknnzQkGZ988kmx+ovOW1o3VlXVWJKibqyi38lffvnFmDp1qmGxWIy2bdu6fT9JRmZmZrHPqMh3f++994yQkBDj+++/d3t/5syZhiRjxYoVhmEYxj/+8Q9DknHgwIFyvwvOP4QdBJ3PP//ckGRs2LDBtS0jI6PYtuTkZMNisRgHDx4s8/N8EXbOduTIEePAgQPG1KlTDUnGkSNHXO95E3Ykub1CQ0ONO++803VDLgo0I0eOLHb8uWFn//79hiRj3LhxpZ7T6XQadevWNUaNGuW6oRW95s6da0gyli9f7ro2NpvNyMrKKve7nKvo7+/sG3fRTe/svz/DODMm5NVXXzXat2/vdi169uxp/Pbbb+We69xrKMmwWq3GhAkTXGNyisJOamqq27HZ2dmGJOOdd94pdj3uvfdeIzw83HA4HMbp06eNiIgIY/DgwcXOf91115Ubdlq3bl0sqJ+rtLBTVTWWZPjw4SVezyuuuMLYvn272/eLj48v8TMq8t2vv/56o3Xr1sW+39atWw1JxjPPPGMYhuH6HZ0zZ45PxlvBXOjGQtCZN2+e4uPjXc3U0pmup1q1aun999/X1KlTJZ1pXo+Li1O9evWqvKYVK1YoJSVFK1eu1IkTJ9zes9vtstlsXn9mly5d9Mwzz8hisahWrVpq1aqV6tatW2y/+Pj4cj/r119/lSQlJSWVus+BAwd05MgRzZo1S7NmzSpxn/3790uSJk6cqG+++UadO3fWxRdfrD59+uiOO+4ocXzNufr376969epp/vz5rvEbCxYsULt27dS6dWu3fUNCQpScnKzk5GQdPHhQK1as0MyZM/XVV19p8ODB+v7778s93w033KAxY8bIYrEoKipKrVu3VmRkZLH9zr2O27ZtkyQNHz681M+22+0qLCzUH3/8oRYtWhR7v2XLlvrXv/5VZn3bt2/XoEGDyv0eJamuGotYrVZlZGRIOvNkVnx8vBo3blxsP09+JyXPvvu2bdu0adMmNWzYsMT3i34nb7/9ds2ZM0f33nuvHnvsMfXq1Us333yzbrnlFp4AA2N2EFzy8/OVkZGhgoKCEv/HPX/+fE2ZMsUnk6SV9hkOh8Pt5+3bt6tXr1669NJLNX36dDVp0kRhYWH617/+pX/84x8ljp/xRIMGDUp9RPtsERERFfr8cxXVOWzYsFJvnm3btpUktWrVSlu2bNEXX3yhzMxMffzxx3r99df15JNPKjU1tczz1KxZU7fddptmz56tffv2adeuXdq2bZuee+65Mo+rX7++rr/+el1//fW6+uqrtWzZMu3cudM1tqc0jRs3rtB1LLoezz//fKmPe9euXduvc8xUd42hoaHV+jspnfmObdq00fTp00t8v0mTJq5zfvfdd1q6dKm+/PJLZWZmauHCherZs6f+/e9/KzQ01Gc1IfgQdhBUPvnkExUUFCg9PV0NGjRwe2/Lli36+9//rhUrVujKK69UQkKCvv76ax06dKjM1p3SQs0FF1xQ4mSFO3fudPs5IyNDhYWFWrRokS666CLX9qVLl3rxzapW8+bNJUkbNmwodZ+GDRsqKipKDofDoxtaZGSkbr/9dt1+++06efKkbr75Zk2ZMkWTJk2S1Wot89ihQ4dq5syZWrhwoXJycmSxWDRkyBCPv0/Hjh21bNky5ebmlht2KqpooHqdOnXKvB5FT7YVtbKcbcuWLR6dp6y/F6n039HqqrGqePLdExIStG7dOvXq1avcf8SEhISoV69e6tWrl6ZPn66pU6fq8ccf19KlSz36nYZ50baHoDJv3jw1b95cDzzwgG655Ra31yOPPKLatWvr/ffflyQNGjRIhmGU2NJgGIbrz5GRkSWGmoSEBNntdq1fv961LTc3t9gsxkX/Yjz7M+12u+bOnVup7+pLDRs2VPfu3fXWW29p165dbu8V1R0aGqpBgwbp448/LvEGdODAAdefDx486PZeWFiYEhMTZRiGTp06VW493bp1U7NmzTRv3jwtXLhQPXr0KNYdkpeXp40bNxY79uTJk1qyZIlCQkKKPVHlSx06dFBCQoJeeOEFHTt2rNj7RdcjNDRUffv21WeffeZ2bTdt2qSvv/663PMMGjRI69atK3F27KK/m6Jut3N/T6urxqriyXe/7bbbtGfPHs2ePbvYPn/88YeOHz8uSTp06FCx94tau5jhGbTsIGjs3btXS5cu1dixY0t8Pzw8XH379tVHH32kl19+Wddcc43uvPNOvfzyy9q2bZv69esnp9Op77//Xtdcc43GjBkj6cwN45tvvtH06dMVFxen+Ph4denSRYMHD9bEiRN10003aezYsTpx4oTS09N1ySWXKDs723XePn36KCwsTAMHDtT999+vY8eOafbs2YqOjlZubm61XBtPvPzyy7ryyivVvn17jRo1SvHx8dqxY4e+/PJL1zIEzz77rJYuXaouXbrovvvuU2Jiog4dOqTs7Gx98803rhtKnz59FBMTo27duqlRo0batGmTXn31VQ0YMEBRUVHl1mKxWHTHHXe4xldNnjy52D6//fabOnfurJ49e6pXr16KiYnR/v37tWDBAq1bt07jx48v1rrnSyEhIZozZ4769++v1q1ba+TIkbrwwgu1Z88eLV26VHXq1HGNX0lNTVVmZqauuuoqPfjggzp9+rRrHqKzw3JJHn30Uf3zn//UrbfeqrvvvlsdOnTQoUOHtGjRIs2cOVPt2rVTQkKC6tatq5kzZyoqKkqRkZHq0qWL4uPjq6XGquLJd7/zzjv14Ycf6oEHHtDSpUvVrVs3ORwObd68WR9++KFrPp/Jkyfru+++04ABA9S0aVPt379fr7/+uho3bqwrr7zSL98PAcSPg6MBr7z44ouGJGPJkiWl7vP2228bkozPP//cMAzDOH36tPH8888bl156qREWFmY0bNjQ6N+/v/Hjjz+6jtm8ebPRvXt3IyIiwpDk9rTIv//9byMpKckICwszWrZsacybN6/Ep7EWLVpktG3b1rBarUazZs2MadOmGW+99ZYhycjJyXHtV5kZlM9V9MTV888/X+p75z69s2HDBuOmm24y6tata1itVqNly5bGE0884bbPvn37jOTkZKNJkyZGzZo1jZiYGKNXr17GrFmzXPu88cYbRvfu3Y369esb4eHhRkJCgvHoo4+6PU5env/7v/8zJBnh4eHG4cOHi72fn59vvPTSS0bfvn2Nxo0bGzVr1jSioqKMrl27GrNnz3Z71Lo0KmEG5XMVPY310Ucflfj+Tz/9ZNx8882u79q0aVPjtttuK/Z7uGzZMqNDhw5GWFiY0bx5c2PmzJkl/q6c+0SSYRjGwYMHjTFjxhgXXnihERYWZjRu3NgYPny42xQAn3/+uZGYmGjUqFGj2N+tr2ssSUkzKJekrN/din73kydPGtOmTTNat25thIeHGxdccIHRoUMHIzU11fU7t2TJEuOGG24w4uLijLCwMCMuLs4YMmSIsXXr1nJrhvlZDOOstncAAACTYcwOAAAwNcIOAAAwNcIOAAAwNcIOAAAwNcIOAAAwNcIOAAAwNdNPKuh0OrV3715FRUX5ZL0kAABQ9QzD0NGjRxUXF1fpxVxNH3b27t3rWigOAAAEl927dxdbTsZbpg87RVPX7969W3Xq1PFzNQAAwBP5+flq0qSJR0vQlMf0Yaeo66pOnTqEHQAAgowvhqAwQBkAAJgaYQcAAJgaYQcAAJgaYQcAAJgaYQcAAJgaYQcAAJiaX8POd999p4EDByouLk4Wi0WfffaZ2/uGYejJJ59UbGysIiIi1Lt3b23bts0/xQIAgKDk17Bz/PhxtWvXTq+99lqJ7z/33HN6+eWXNXPmTK1evVqRkZHq27evCgoKqrlSAAAQrPw6qWD//v3Vv3//Et8zDEMzZszQ3//+d91www2SpHfffVeNGjXSZ599psGDB1dnqQAAIEgF7JidnJwc5eXlqXfv3q5tNptNXbp00cqVK0s9rrCwUPn5+W4vAAC85XAaWrn9oD5fu0crtx+Uw2n4uyRUUMAuF5GXlydJatSokdv2Ro0aud4rSVpamlJTU6u0NgCAuWVuyFVqxkbl2v83bCLWZlXKwET1S4r1Y2WoiIBt2amoSZMmyW63u167d+/2d0kAgCCSuSFXo+dluwUdScqzF2j0vGxlbsj1U2WoqIANOzExMZKkffv2uW3ft2+f672ShIeHuxb9ZPFPAIA3HE5DqRkbVVKHVdG21IyNdGkFmYANO/Hx8YqJidGSJUtc2/Lz87V69Wp17drVj5UBAMwqK+dQsRadsxmScu0Fyso5VH1FodL8Ombn2LFj+uWXX1w/5+TkaO3atapXr54uuugijR8/Xs8884xatGih+Ph4PfHEE4qLi9ONN97ov6IBAKa1/6hnU5t4uh8Cg1/Dzg8//KBrrrnG9fOECRMkScOHD9fbb7+tv/71rzp+/LhGjRqlI0eO6Morr1RmZqasVqu/SgYAmFh0lGf3F0/3Q2CwGIZh6o7H/Px82Ww22e12xu8AAMrkcBq6ctq3yrMXlDhuxyIpxmbV8ok9FRpiqe7yziu+vH8H7JgdAACqW2iIRSkDEyWdCTZnK/o5ZWAiQSfIEHYAADhLv6RYpQ9rrxibe1dVjM2q9GHtmWcnCAXspIIAAPhLv6RYXZsYo6ycQ9p/tEDRUVZ1jq9Hi06QIuwAAFCC0BCLuibU93cZ8AG6sQAAgKkRdgAAgKkRdgAAgKkRdgAAgKkRdgAAgKkRdgAAgKkRdgAAgKkRdgAAgKkRdgAAgKkRdgAAgKkRdgAAgKkRdgAAgKkRdgAAgKkRdgAAgKkRdgAAgKkRdgAAgKnV8HcBAAAg+DichrJyDmn/0QJFR1nVOb6eQkMs/i6rRIQdAADglcwNuUrN2Khce4FrW6zNqpSBieqXFOvHykpGNxYAAPBY5oZcjZ6X7RZ0JCnPXqDR87KVuSHXT5WVjrADAAA84nAaSs3YKKOE94q2pWZslMNZ0h7+Q9gBAAAeyco5VKxF52yGpFx7gbJyDlVfUR4g7AAAAI/sP1p60KnIftWFsAMAADwSHWX16X7VhbADAAA80jm+nmJtVpX2gLlFZ57K6hxfrzrLKhdhBwAAeCQ0xKKUgYmSVCzwFP2cMjAx4ObbIewAAACP9UuKVfqw9oqxuXdVxdisSh/WPiDn2WFSQQAA4JV+SbG6NjGGGZQBAIB5hYZY1DWhvr/L8AhhBwAAEwumNayqCmEHAACTCrY1rKoKA5QBADChYFzDqqoQdgAAMJlgXcOqqhB2AAAwmWBdw6qqEHYAADCZYF3DqqoQdgAAMJlgXcOqqhB2AAAwmWBdw6qqEHYAADCZYF3DqqoQdgAAPuVwGlq5/aA+X7tHK7cfPG+e+Ak0wbiGVVVhUkEAgM8wiV1gCbY1rKqKxTAMU0fu/Px82Ww22e121alTx9/lAIBpFU1id+5Npei2er61JqByfHn/phsLAFBpTGKHQEbYAQBUGpPYIZARdgAAlcYkdghkhB0AQKUxiR0CGWEHAFBpTGKHQEbYAQBUGpPYIZAFdNhxOBx64oknFB8fr4iICCUkJOjpp5+WyZ+WB4CgxCR25mKmySEDelLBadOmKT09Xe+8845at26tH374QSNHjpTNZtPYsWP9XR4A4BxMYmcOZpscMqAnFfzzn/+sRo0a6c0333RtGzRokCIiIjRv3jyPPoNJBQEA8FygTA553kwqeMUVV2jJkiXaunWrJGndunVavny5+vfvX+oxhYWFys/Pd3sBAHzPTN0cOMOsk0MGdDfWY489pvz8fF166aUKDQ2Vw+HQlClTNHTo0FKPSUtLU2pqajVWCQDnH7N1c+AMbyaH7JpQv/oKq6SAbtn58MMP9f7772v+/PnKzs7WO++8oxdeeEHvvPNOqcdMmjRJdrvd9dq9e3c1VgwA5lfUzXHuTTHPXqDR87KVuSHXT5Whssw6OWRAt+w8+uijeuyxxzR48GBJUps2bbRz506lpaVp+PDhJR4THh6u8PDw6iwTAM4b5XVzWHSmm+PaxBgGJQchs04OGdAtOydOnFBIiHuJoaGhcjqdfqoIAM5vrIFlbmadHDKgw87AgQM1ZcoUffnll9qxY4c+/fRTTZ8+XTfddJO/SwOA85JZuzlwhlknhwzosPPKK6/olltu0YMPPqhWrVrpkUce0f3336+nn37a36UBwHnJrN0c+B8zTg4Z0PPs+ALz7ACA7zichq6c9q3y7AUljtux6MxNcfnEnkH3r3+4czgNv04O6cv7d0APUAYABJaibo7R87JlkdwCTzB3c6C40BBLUD1eXpaA7sYCAAQeM3ZzwNxo2QEAeI01sBBMCDsAgAoxUzcHzI1uLAAAYGqEHQAAYGqEHQAAYGqEHQAAYGqEHQAAYGqEHQAAYGqEHQAAYGqEHQAAYGqEHQAAYGqEHQAAYGqEHQAAYGqEHQAAYGqEHQAAYGqEHQAAYGqEHQAAYGqEHQAAYGqEHQAAYGqEHQAAYGqEHQAAYGqEHQAAYGqEHQAAYGqEHQAAYGqEHQAAYGqEHQAAYGqEHQAAYGqEHQAAYGqEHQAAYGqEHQAAYGqEHQAAYGqEHQAAYGo1/F0AAKBiHE5DWTmHtP9ogaKjrOocX0+hIRZ/lwUEHMIOAFSSP0JH5oZcpWZsVK69wLUt1mZVysBE9UuKrdJzA8GGsAMAleCP0JG5IVej52XLOGd7nr1Ao+dlK31YewIPcBbG7ABABRWFjrODjvS/0JG5Idfn53Q4DaVmbCwWdCS5tqVmbJTDWdIewPmJsAMAFeCv0JGVc6hYuDr33Ln2AmXlHPLpeYFgRtgBgArwV+jYf7T0c1ZkP+B8QNgBgArwV+iIjrL6dD/gfEDYAYAK8Ffo6BxfT7E2q0p71suiMwOkO8fX8+l5gWBG2AGACvBX6AgNsShlYKLrHOeeU5JSBiYy3w5wFsIOAFSAP0NHv6RYpQ9rrxibe6tRjM3KY+dACSyGYZj6+cT8/HzZbDbZ7XbVqVPH3+UAMBl/Tu7HDMowM1/evwk7AFBJhA7A93x5/2YGZQCopNAQi7om1Pd3GQBKwZgdAABgaoQdAABgaoQdAABgagEfdvbs2aNhw4apfv36ioiIUJs2bfTDDz/4uywAABAkAnqA8uHDh9WtWzddc801+uqrr9SwYUNt27ZNF1xwgb9LAwAAQSKgw860adPUpEkTzZ0717UtPj7ejxUBAIBgE9DdWIsWLVLHjh116623Kjo6Wpdffrlmz55d5jGFhYXKz893ewEAgPNXhcLOe++9p27duikuLk47d+6UJM2YMUOff/65T4v79ddflZ6erhYtWujrr7/W6NGjNXbsWL3zzjulHpOWliabzeZ6NWnSxKc1AQCA4OJ12ElPT9eECRN03XXX6ciRI3I4HJKkunXrasaMGT4tzul0qn379po6daouv/xyjRo1Svfdd59mzpxZ6jGTJk2S3W53vXbv3u3TmgAAQHDxOuy88sormj17th5//HGFhoa6tnfs2FE///yzT4uLjY1VYmKi27ZWrVpp165dpR4THh6uOnXquL0AAMD5y+uwk5OTo8svv7zY9vDwcB0/ftwnRRXp1q2btmzZ4rZt69atatq0qU/PAwAAzMvrsBMfH6+1a9cW256ZmalWrVr5oiaXhx9+WKtWrdLUqVP1yy+/aP78+Zo1a5aSk5N9eh4AAGBeXj96PmHCBCUnJ6ugoECGYSgrK0sLFixQWlqa5syZ49PiOnXqpE8//VSTJk3S5MmTFR8frxkzZmjo0KE+PQ8AlIVVzYHgZjEMw/D2oPfff19PPfWUtm/fLkmKi4tTamqq7rnnHp8XWFm+XCIewPknc0OuUjM2Ktde4NoWa7MqZWCi+iXF+rEywNx8ef+uUNgpcuLECR07dkzR0dGVKqIqEXYAVFTmhlyNnpetc/8nWdSmkz6sPYEHqCK+vH9XaIDytm3bJEm1atVyBZ1t27Zpx44dlSoGAAKFw2koNWNjsaAjybUtNWOjHM4K/3sRQDXxOuyMGDFC//3vf4ttX716tUaMGOGLmgDA77JyDrl1XZ3LkJRrL1BWzqHqKwpAhXgddn766Sd169at2PY//elPJT6lBQDBaP/R0oNORfYD4D9ehx2LxaKjR48W2263212zKQNAsIuOsvp0PwD+43XY6d69u9LS0tyCjcPhUFpamq688kqfFgcA/tI5vp5ibVaV9oC5RWeeyuocX686ywJQAV7PszNt2jR1795dLVu21FVXXSVJ+v7775Wfn69vv/3W5wUCgD+EhliUMjBRo+dlyyK5DVQuCkApAxOZbwcIAl637CQmJmr9+vW67bbbtH//fh09elR33XWXNm/erKSkpKqoEQD8ol9SrNKHtVeMzb2rKsZm5bFzIIhUap6dYMA8OwAqixmUgerny/u3R91Y69evV1JSkkJCQrR+/foy923btm2lCgKAQBMaYlHXhPr+LgNABXkUdi677DLl5eUpOjpal112mSwWi0pqELJYLDyRBSDg0DIDnN88Cjs5OTlq2LCh688AECxY2wqARwOUmzZtKovFolOnTik1NVVOp1NNmzYt8QUAgaJobatzZ0LOsxdo9LxsZW7I9VNlAKqTV09j1axZUx9//HFV1QIAPsPaVgCKeP3o+Y033qjPPvusCkoBAN9hbSsARbyeVLBFixaaPHmyVqxYoQ4dOigyMtLt/bFjx/qsOACoKNa2AlDE67Dz5ptvqm7duvrxxx/1448/ur1nsVgIOwACAmtbASjiddjhaSwAwaBobas8e0GJ43YsOjMTMmtbAebnVdhZtWqVMjIydPLkSfXq1Uv9+vWrqroAoFJY2wpAEY8HKP/zn/9Ut27d9NJLL2nOnDkaMGCAXnjhhaqsDQAqhbWtAEherI3VoUMHderUSa+99ppCQ0OVlpam559/XocOBfaTDKyNBYAZlIHg48v7t8dhp3bt2lq7dq0uvvhiSdLJkycVGRmpPXv2KDo6ulJFVCXCDgAAwceX92+Pu7FOnDjhdrKwsDBZrVYdO3asUgUAAABUJa8GKM+ZM0e1a9d2/Xz69Gm9/fbbatCggWsbj54DAIBA4nE3VrNmzWSxlN3HbbFY9Ouvv/qkMF+hGwsAgODjy/u3xy07O3bsqNSJAAAA/MHrtbEAAACCCWEHAACYGmEHAACYGmEHAACYGmEHAACYmkdPY+Xn53v8gTzeDQAAAolHYadu3brlzrFTxOFwVKogAAAAX/Io7CxdutT15x07duixxx7TiBEj1LVrV0nSypUr9c477ygtLa1qqgQAAKggj2dQLtKrVy/de++9GjJkiNv2+fPna9asWfrPf/7jy/oqjRmUAQAIPn5ZCLTIypUr1bFjx2LbO3bsqKysrEoVAwAA4Gteh50mTZpo9uzZxbbPmTNHTZo08UlRAAAAvuLVqueS9I9//EODBg3SV199pS5dukiSsrKytG3bNn388cc+LxBA9XE4DWXlHNL+owWKjrKqc3w9hYZ49nACAAQqr8fsSNLu3buVnp6uzZs3S5JatWqlBx54ICBbdhizA3gmc0Ounlq0UXn5Ba5tMXWseur6RPVLivVjZQDOR768f1co7AQTwg5QvswNuXpgXnap788c1p7AA6Ba+XWAsiR9//33GjZsmK644grt2bNHkvTee+9p+fLllSoGQNVwOA2t3H5Qn6/do5XbD8rhNNzee+yTn8s8ftInP7sdAwDBxOuw8/HHH6tv376KiIhQdna2CgsLJUl2u11Tp071eYEAKidzQ66unPathsxepXEfrNWQ2at05bRvlbkhV5K06teDOnLiVJmfcfjEKa369WB1lAsAPud12HnmmWc0c+ZMzZ49WzVr1nRt79atm7KzS28GB1D9MjfkavS8bOXaC9y259kLNHpetjI35Grlds9CjKf7AUCg8TrsbNmyRd27dy+23Waz6ciRI76oCTjvldXt5M1npGZsVElHFm1Lzdgoz4ft0Y0FIDh5/eh5TEyMfvnlFzVr1sxt+/Lly9W8eXNf1QWctzI35Co1Y6Nba0yszaqUgd49FZWVc6hYi87ZDEm59gLVrVWz1H3O1rV5A4/PDQCBxOuWnfvuu0/jxo3T6tWrZbFYtHfvXr3//vt65JFHNHr06KqoEThveNLt5Kn9R0sPOmdrEGUtN/DUrVVTf0qo7/G5ASCQeN2y89hjj8npdKpXr146ceKEunfvrvDwcD3yyCN66KGHqqJG4LxQXreTRWe6na5NjPFoor/oKKtH542pY9WzN7cp89HzZ29uw+SCAIKW1y07FotFjz/+uA4dOqQNGzZo1apVOnDggJ5++umqqA84b3ja7ZSVc8ijz+scX0+xNqtKiygWneke6xxfT/2SYjVzWHvF1Al32yemTjhz7AAIel637Nx999166aWXFBUVpcTERNf248eP66GHHtJbb73l0wIBXwiGZRA87XbydL/QEItSBiZq9LxsWeQ+vLjom6cMTHRdh35Jsbo2MSbgrxMAeMvrlp133nlHf/zxR7Htf/zxh959912fFFWaZ599VhaLRePHj6/S88BcyptnJlB42u3k6X7SmQCTPqy9Ymzux8TYrEovocUmNMSirgn1dcNlF6prQn2CDgBT8LhlJz8/X4ZhyDAMHT16VFbr//7n6XA49K9//UvR0dFVUqQkrVmzRm+88Ybatm1bZeeA+RQN+D13HEzRgN+Sbvj+UtTtlGcvKHHcjkVnQkrn+HpefS4tNgDOdx6Hnbp168pischiseiSSy4p9r7FYlFqaqpPiyty7NgxDR06VLNnz9YzzzxTJeeA+fh6wG9V87bbydvP7srTVADOUx6HnaVLl8owDPXs2VMff/yx6tX7378uw8LC1LRpU8XFxVVJkcnJyRowYIB69+5N2IHHvBnwGyhBoKjb6dx5dmIqMM8OAOAMj8NOjx49JEk5OTm66KKLZLFUz7+EP/jgA2VnZ2vNmjUe7V9YWOhar0s60/2G85OvB/xWF7qdAMC3vH4a69tvv1Xt2rV16623um3/6KOPdOLECQ0fPtxnxe3evVvjxo3T4sWL3cYIlSUtLa3KutMQXKpiwG91odsJAHzH66ex0tLS1KBB8Wnjo6Ojfb7q+Y8//qj9+/erffv2qlGjhmrUqKFly5bp5ZdfVo0aNeRwOIodM2nSJNntdtdr9+7dPq0JwcObeWYAAObldcvOrl27FB8fX2x706ZNtWvXLp8UVaRXr176+eef3baNHDlSl156qSZOnKjQ0NBix4SHhys8PLzYdpx/yhrwq///8xMDKjbgFwAQPLwOO9HR0Vq/fn2xhUDXrVun+vV92+weFRWlpKQkt22RkZGqX79+se1ASUob8Fvk6S83KiREDPwFABPzuhtryJAhGjt2rJYuXSqHwyGHw6Fvv/1W48aN0+DBg6uiRqBS+iXF6okBrUp8ryILbAIAgovFMIySpiEp1cmTJ3XnnXfqo48+Uo0aZxqGnE6n7rrrLs2cOVNhYWFVUmhF5efny2azyW63q06dOv4uB37gcBq6ctq3pT6GXjRZ3/KJPenSAoAA4cv7t9fdWGFhYVq4cKGefvpprVu3ThEREWrTpo2aNm1aqUKAqhKM8+0AAHzH67BT5JJLLilxJmUg0ATrfDsAAN/wKOxMmDBBTz/9tCIjIzVhwoQy950+fbpPCgN8JZjn2wEAVJ5HYeenn37SqVOnXH8uTXXNqgx4o6oW2AQABAevBygHGwYoQ/rf6udSyQtsBtLq5wAA396/vX70HAhGRfPtxNjcu6pibFaCDgCYnEfdWDfffLPHH/jJJ59UuBigKrHAJgCcnzwKOzabzfVnwzD06aefymazqWPHjpLOrGF15MgRr0IR4A8ssAkA5x+Pws7cuXNdf544caJuu+02zZw507U2lcPh0IMPPsiYGAAAEHC8HqDcsGFDLV++XC1btnTbvmXLFl1xxRU6ePCgTwusLAYoAwAQfPw6QPn06dPavHlzse2bN2+W0+msVDEAAAC+5vUMyiNHjtQ999yj7du3q3PnzpKk1atX69lnn9XIkSN9XiAAAEBleB12XnjhBcXExOjFF19Ubu6ZlaJjY2P16KOP6i9/+YvPCwQAAKiMSk0qmJ+fL0kBPRaGMTsAAAQfv08qePr0aX3zzTdasGCBa4mIvXv36tixY5UqBvAXh9PQyu0H9fnaPVq5/aAcTlNPLA4A5xWvu7F27typfv36adeuXSosLNS1116rqKgoTZs2TYWFhZo5c2ZV1AlUmcwNuUrN2Khc+/9WPY+1WZUyMJGZlQHABLxu2Rk3bpw6duyow4cPKyIiwrX9pptu0pIlS3xaHFDVitbMOjvoSFKevUCj52Urc0OunyoDAPiK1y0733//vf773/8qLCzMbXuzZs20Z88enxUGVDWH01BqxsYSV0I3dGaR0NSMjbo2MYYlJQAgiHndsuN0OuVwOIpt/+233xQVFeWTooDqkJVzqFiLztkMSbn2AmXlHKq+ogAAPud12OnTp49mzJjh+tlisejYsWNKSUnRdddd58vagCq1/2jpQaci+wEAAlOF5tnp16+fEhMTVVBQoDvuuEPbtm1TgwYNtGDBgqqoEagS0VFWn+4HAAhMXoedJk2aaN26dVq4cKHWrVunY8eO6Z577tHQoUPdBiwDga5zfD3F2qzKsxeUOG7HIinGZlXn+HrVXRoAwIe8mlTw1KlTuvTSS/XFF1+oVatWVVmXzzCpIMpS9DSWJLfAUzQcOX1Yex4/BwA/8NukgjVr1lRBAeMXYB79kmKVPqy9YmzuXVUxNitBBwBMwuvlIqZOnaqtW7dqzpw5qlHD616wakfLDjzhcBrKyjmk/UcLFB11puuKx80BwH98ef/2Oq2sWbNGS5Ys0b///W+1adNGkZGRbu9/8sknlSoI8IfQEIu6JtT3dxkAgCrgddipW7euBg0aVBW1AAAA+JzXYWfu3LlVUQcAAECV8HiAstPp1LRp09StWzd16tRJjz32mP7444+qrA0AAKDSPA47U6ZM0d/+9jfVrl1bF154oV566SUlJydXZW0AAACV5nHYeffdd/X666/r66+/1meffaaMjAy9//77cjqdVVkfAABApXgcdnbt2uW29lXv3r1lsVi0d+/eKikMAADAFzwOO6dPn5bV6j7xWs2aNXXq1CmfFwUAAOArHj+NZRiGRowYofDwcNe2goICPfDAA25z7TDPTsUxsR0AAL7ncdgZPnx4sW3Dhg3zaTHns8wNuUrN2Khc+/+W44i1WZUyMJElCwAAqASvl4sINsGwXETRYpTn/kWwGCUA4Hzlt4VA4XsOp6HUjI3Fgo70v1W4UzM2yuE0dSYFAKDKEHaqkMNpaOX2g/p87R6t3H6wxMCSlXPIrevqXIakXHuBsnIOVWGlAACYV+AvWx6kPB2Ds/9o6UHnbJ7uBwAA3NGyUwWKxuCc22KTay/QA/Oy9a/1ua5t0VHWcw8vkaf7edKaBADA+YSWHR8rawxOkTELsvWqLtd1bePUOb6eYm1W5dkLSjzGIinGduYx9PLwRBcAAMXRsuNj5Y3BkSSnIT04/ydlbshVaIhF17eLLTMcpQxMLHe+ndJak/LsBRo9L1uZG3JLORIAAHOjZcfHvBlbk5qxUU6noVnf5ZS6z6ju8eW2ypT3RJfl/5/r2sQYJikEAJx3aNnxMU/H1khnxvD8/fMNZbbqLFqXW+64G57oKh1jmAAAtOz4WNEYnPK6soocOl722mJFIaVrQv1S9+GJrpIxhgkAINGy43OhIRalDEz06WeWF1J8/USXGTCGCQBQhLBTBfolxer1O9qrvOExtcNDPfq88kJKUWtSaaez6EyLhidPdJkBs1IDAM5G2Kki17WN1atDLi9zn2OFjjLf9zSknN2adG7gKfrZkye6zIIxTACAsxF2qtB1beM0c1h7xdq87z7yNqT0S4pV+rD2ijnnXDE263m3kChjmAAAZ2OAchVyOA3ZIsL0136X6vejBXp16XbZ/yh7QHKRmAoMpO2XFKtrE2OUlXNI+48WKDrqTKuQmVp0HE6j3O/HGCYAwNkCOuykpaXpk08+0ebNmxUREaErrrhC06ZNU8uWLf1dWrlKehLIE2OuSVC3ixtWOKSEhljKfHIrmHn6dJUvZ6UGAAS/gO7GWrZsmZKTk7Vq1SotXrxYp06dUp8+fXT8+HF/l1am0p4E8kSLRlHqmlDfVK0xvuDN01WMYQIAnC2gW3YyMzPdfn777bcVHR2tH3/8Ud27d/dTVWXzZG2sstC1UlxFZoguGsN0bktQRboHAQDBLaDDzrnsdrskqV690rsfCgsLVVhY6Po5Pz+/yus6mydrY5WErpXSefN01dldeOfDGCYAQPmCJuw4nU6NHz9e3bp1U1JSUqn7paWlKTU1tRorc1eRJ3zoWilbZZ6uMvMYJgCAZwJ6zM7ZkpOTtWHDBn3wwQdl7jdp0iTZ7XbXa/fu3dVU4RkV6YY6Hx8P9wZPVwEAKiMoWnbGjBmjL774Qt99950aN25c5r7h4eEKDw+vpsqK8+RJoEZ1wvXibZfp92OFdK14gKerAACVEdAtO4ZhaMyYMfr000/17bffKj4+3t8llcuTJ4Geur61ul3cQDdcdiFPXnmAp6sAAJUR0GEnOTlZ8+bN0/z58xUVFaW8vDzl5eXpjz/+8HdpZWI2Y9/jmgIAKspiGEbAroZosZT8L/W5c+dqxIgRHn1Gfn6+bDab7Ha76tSp48PqyufJbL/wDtcUAM4Pvrx/B/SYnQDOYR7hSSDf45oCALwV0N1YAAAAlUXYAQAAphbQ3VhmwTgTAAD8h7BTxTxdqRsAAFQNurGqkDcrdQMAgKpB2Kki5a3ULZ1ZqdvhDO4nzgAACHSEnSrizUrdAACg6hB2qsg3G/M82q8iq6QDAADPEXaqQOaGXL25YodH+7JSNwAAVYunsXysaKxOeVipGwCA6kHLjg85nIbeXpFT5lidIoZYqRsAgOpAy46PlDSfTlnu7taMeXYAAKgGhB0fKJpPx5uHyK9NjKmyegAAwP8QdiqprPl0SsJYHQAAqhdjdiqpvPl0zlY0OoexOgAAVB9adirJm3lyYlgTCwCAakfYqSRP58l5YkArjegWT4sOAADVjG6sSuocX0+xNqtKizAWnVnlnKADAIB/EHYqKTTEopSBiZJULPAwRgcAAP8j7PhAv6RYpQ9rrxibe5dWjM2q9GHtGaMDAIAfMWbHR/olxeraxBhl5RzS/qMFio4683g5LToAAPgXYaeSHE6DgAMAQAAj7FRCSUtExPJ4OQAAAYUxOxVUtETEuRMK5tkLNHpetjI35PqpMgAAcDbCTgWUtURE0bbUjI1yOL1ZLQsAAFQFwk4FlLdEhCEp116grJxD1VcUAAAoEWGnAjxdIsKbpSQAAEDVIOxUgKdLRHi6HwAAqDqEnQrwdImIzvH1qrMsAABQAsJOBbBEBAAAwYOwU0EsEQEAQHBgUsFKYIkIAAACH2GnkkJDLOqaUN/fZQAAgFLQjQUAAEyNsAMAAEyNsAMAAEyNsAMAAEyNsAMAAEyNsAMAAEyNsAMAAEyNsAMAAEyNsAMAAEyNsAMAAEyNsAMAAEyNsAMAAEyNsAMAAEyNsAMAAEyNsAMAAEyNsAMAAEyNsAMAAEwtKMLOa6+9pmbNmslqtapLly7Kysryd0kAACBIBHzYWbhwoSZMmKCUlBRlZ2erXbt26tu3r/bv3+/v0gAAQBAI+LAzffp03XfffRo5cqQSExM1c+ZM1apVS2+99Za/SwMAAEEgoMPOyZMn9eOPP6p3796ubSEhIerdu7dWrlxZ4jGFhYXKz893ewEAgPNXQIed33//XQ6HQ40aNXLb3qhRI+Xl5ZV4TFpammw2m+vVpEmT6igVAAAEqIAOOxUxadIk2e1212v37t3+LgkAAPhRDX8XUJYGDRooNDRU+/btc9u+b98+xcTElHhMeHi4wsPDq6M8AAAQBAK6ZScsLEwdOnTQkiVLXNucTqeWLFmirl27+rEyAAAQLAK6ZUeSJkyYoOHDh6tjx47q3LmzZsyYoePHj2vkyJH+Lg0AAASBgA87t99+uw4cOKAnn3xSeXl5uuyyy5SZmVls0DIAAEBJLIZhGP4uoirl5+fLZrPJbrerTp06/i4HAAB4wJf374AeswMAAFBZhB0AAGBqhB0AAGBqhB0AAGBqhB0AAGBqhB0AAGBqhB0AAGBqhB0AAGBqhB0AAGBqhB0AAGBqhB0AAGBqhB0AAGBqhB0AAGBqhB0AAGBqhB0AAGBqhB0AAGBqhB0AAGBqhB0AAGBqhB0AAGBqhB0AAGBqhB0AAGBqhB0AAGBqhB0AAGBqhB0AAGBqNfxdQDByOA1l5RzS/qMFio6yqnN8PYWGWPxdFgAAKAFhx0uZG3KVmrFRufYC17ZYm1UpAxPVLynWj5UBAICS0I3lhcwNuRo9L9st6EhSnr1Ao+dlK3NDrp8qAwAApSHseMjhNJSasVFGCe8VbUvN2CiHs6Q9AACAvxB2PJSVc6hYi87ZDEm59gJl5RyqvqIAAEC5CDse2n+09KBTkf0AAED1IOx4KDrK6tP9AABA9SDseKhzfD3F2qwq7QFzi848ldU5vl51lgUAAMpB2PFQaIhFKQMTJalY4Cn6OWVgIvPtAAAQYAg7XuiXFKv0Ye0VY3PvqoqxWZU+rD3z7AAAEICYVNBL/ZJidW1iDDMoAwAQJAg7FRAaYlHXhPr+LgMAAHiAbiwAAGBqhB0AAGBqhB0AAGBqhB0AAGBqhB0AAGBqhB0AAGBqhB0AAGBqhB0AAGBqhB0AAGBqpp9B2TAMSVJ+fr6fKwEAAJ4qum8X3ccrw/Rh5+jRo5KkJk2a+LkSAADgraNHj8pms1XqMyyGLyJTAHM6ndq7d6+ioqJksXi+WGd+fr6aNGmi3bt3q06dOlVYoXlxDSuH61c5XL/K4fpVDtevcoqu38aNG9WyZUuFhFRu1I3pW3ZCQkLUuHHjCh9fp04dflEriWtYOVy/yuH6VQ7Xr3K4fpVz4YUXVjroSAxQBgAAJkfYAQAApkbYKUV4eLhSUlIUHh7u71KCFtewcrh+lcP1qxyuX+Vw/SrH19fP9AOUAQDA+Y2WHQAAYGqEHQAAYGqEHQAAYGqEHQAAYGqEnVK89tpratasmaxWq7p06aKsrCx/lxQU0tLS1KlTJ0VFRSk6Olo33nijtmzZ4u+ygtazzz4ri8Wi8ePH+7uUoLFnzx4NGzZM9evXV0REhNq0aaMffvjB32UFDYfDoSeeeELx8fGKiIhQQkKCnn76aZ+sT2RG3333nQYOHKi4uDhZLBZ99tlnbu8bhqEnn3xSsbGxioiIUO/evbVt2zb/FBuAyrp+p06d0sSJE9WmTRtFRkYqLi5Od911l/bu3ev1eQg7JVi4cKEmTJiglJQUZWdnq127durbt6/279/v79IC3rJly5ScnKxVq1Zp8eLFOnXqlPr06aPjx4/7u7Sgs2bNGr3xxhtq27atv0sJGocPH1a3bt1Us2ZNffXVV9q4caNefPFFXXDBBf4uLWhMmzZN6enpevXVV7Vp0yZNmzZNzz33nF555RV/lxaQjh8/rnbt2um1114r8f3nnntOL7/8smbOnKnVq1crMjJSffv2VUFBQTVXGpjKun4nTpxQdna2nnjiCWVnZ+uTTz7Rli1bdP3113t/IgPFdO7c2UhOTnb97HA4jLi4OCMtLc2PVQWn/fv3G5KMZcuW+buUoHL06FGjRYsWxuLFi40ePXoY48aN83dJQWHixInGlVde6e8ygtqAAQOMu+++223bzTffbAwdOtRPFQUPScann37q+tnpdBoxMTHG888/79p25MgRIzw83FiwYIEfKgxs516/kmRlZRmSjJ07d3r12bTsnOPkyZP68ccf1bt3b9e2kJAQ9e7dWytXrvRjZcHJbrdLkurVq+fnSoJLcnKyBgwY4PZ7iPItWrRIHTt21K233qro6Ghdfvnlmj17tr/LCipXXHGFlixZoq1bt0qS1q1bp+XLl6t///5+riz45OTkKC8vz+2/Y5vNpi5dunA/qSC73S6LxaK6det6dZzpFwL11u+//y6Hw6FGjRq5bW/UqJE2b97sp6qCk9Pp1Pjx49WtWzclJSX5u5yg8cEHHyg7O1tr1qzxdylB59dff1V6eromTJigv/3tb1qzZo3Gjh2rsLAwDR8+3N/lBYXHHntM+fn5uvTSSxUaGiqHw6EpU6Zo6NCh/i4t6OTl5UlSifeTovfguYKCAk2cOFFDhgzxenFVwg6qTHJysjZs2KDly5f7u5SgsXv3bo0bN06LFy+W1Wr1dzlBx+l0qmPHjpo6daok6fLLL9eGDRs0c+ZMwo6HPvzwQ73//vuaP3++WrdurbVr12r8+PGKi4vjGsJvTp06pdtuu02GYSg9Pd3r4+nGOkeDBg0UGhqqffv2uW3ft2+fYmJi/FRV8BkzZoy++OILLV26VI0bN/Z3OUHjxx9/1P79+9W+fXvVqFFDNWrU0LJly/Tyyy+rRo0acjgc/i4xoMXGxioxMdFtW6tWrbRr1y4/VRR8Hn30UT322GMaPHiw2rRpozvvvFMPP/yw0tLS/F1a0Cm6Z3A/qZyioLNz504tXrzY61YdibBTTFhYmDp06KAlS5a4tjmdTi1ZskRdu3b1Y2XBwTAMjRkzRp9++qm+/fZbxcfH+7ukoNKrVy/9/PPPWrt2revVsWNHDR06VGvXrlVoaKi/Swxo3bp1KzbVwdatW9W0aVM/VRR8Tpw4oZAQ91tDaGionE6nnyoKXvHx8YqJiXG7n+Tn52v16tXcTzxUFHS2bdumb775RvXr16/Q59CNVYIJEyZo+PDh6tixozp37qwZM2bo+PHjGjlypL9LC3jJycmaP3++Pv/8c0VFRbn6pW02myIiIvxcXeCLiooqNr4pMjJS9evXZ9yTBx5++GFdccUVmjp1qm677TZlZWVp1qxZmjVrlr9LCxoDBw7UlClTdNFFF6l169b66aefNH36dN19993+Li0gHTt2TL/88ovr55ycHK1du1b16tXTRRddpPHjx+uZZ55RixYtFB8fryeeeEJxcXG68cYb/Vd0ACnr+sXGxuqWW25Rdna2vvjiCzkcDtc9pV69egoLC/P8RBV+RszkXnnlFeOiiy4ywsLCjM6dOxurVq3yd0lBQVKJr7lz5/q7tKDFo+feycjIMJKSkozw8HDj0ksvNWbNmuXvkoJKfn6+MW7cOOOiiy4yrFar0bx5c+Pxxx83CgsL/V1aQFq6dGmJ/88bPny4YRhnHj9/4oknjEaNGhnh4eFGr169jC1btvi36ABS1vXLyckp9Z6ydOlSr85jMQymxQQAAObFmB0AAGBqhB0AAGBqhB0AAGBqhB0AAGBqhB0AAGBqhB0AAGBqhB0AAGBqhB0AQc1iseizzz7z+ec2a9ZMM2bM8PnnAqh+hB0AHlm5cqVCQ0M1YMAAr4/1Z3AYMWKELBaLLBaLwsLCdPHFF2vy5Mk6ffp0mcetWbNGo0aNqqYqAVQlwg4Aj7z55pt66KGH9N1332nv3r3+Lscr/fr1U25urrZt26a//OUveuqpp/T888+XuO/JkyclSQ0bNlStWrWqs0wAVYSwA6Bcx44d08KFCzV69GgNGDBAb7/9drF9MjIy1KlTJ1mtVjVo0EA33XSTJOnqq6/Wzp079fDDD7taWCTpqaee0mWXXeb2GTNmzFCzZs1cP69Zs0bXXnutGjRoIJvNph49eig7O9vr+sPDwxUTE6OmTZtq9OjR6t27txYtWiTpTMvPjTfeqClTpiguLk4tW7aUVLw16siRI7r//vvVqFEjWa1WJSUl6YsvvnC9v3z5cl111VWKiIhQkyZNNHbsWB0/ftzrWgH4HmEHQLk+/PBDXXrppWrZsqWGDRumt956S2cvq/fll1/qpptu0nXXXaeffvpJS5YsUefOnSVJn3zyiRo3bqzJkycrNzdXubm5Hp/36NGjGj58uJYvX65Vq1apRYsWuu6663T06NFKfZ+IiAhXC44kLVmyRFu2bNHixYvdAkwRp9Op/v37a8WKFZo3b542btyoZ599VqGhoZKk7du3q1+/fho0aJDWr1+vhQsXavny5RozZkyl6gTgGzX8XQCAwPfmm29q2LBhks50Cdntdi1btkxXX321JGnKlCkaPHiwUlNTXce0a9dOklSvXj2FhoYqKipKMTExXp23Z8+ebj/PmjVLdevW1bJly/TnP//Z6+9hGIaWLFmir7/+Wg899JBre2RkpObMmaOwsLASj/vmm2+UlZWlTZs26ZJLLpEkNW/e3PV+Wlqahg4dqvHjx0uSWrRooZdfflk9evRQenq6rFar17UC8B1adgCUacuWLcrKytKQIUMkSTVq1NDtt9+uN99807XP2rVr1atXL5+fe9++fbrvvvvUokUL2Ww21alTR8eOHdOuXbu8+pwvvvhCtWvXltVqVf/+/XX77bfrqaeecr3fpk2bUoOOdOb7NW7c2BV0zrVu3Tq9/fbbql27tuvVt29fOZ1O5eTkeFUrAN+jZQdAmd58802dPn1acXFxrm2GYSg8PFyvvvqqbDabIiIivP7ckJAQt64wSTp16pTbz8OHD9fBgwf10ksvqWnTpgoPD1fXrl3duqA8cc011yg9PV1hYWGKi4tTjRru/+uLjIws8/jyvt+xY8d0//33a+zYscXeu+iii7yqFYDvEXYAlOr06dN699139eKLL6pPnz5u7914441asGCBHnjgAbVt21ZLlizRyJEjS/ycsLAwORwOt20NGzZUXl6eDMNwDVpeu3at2z4rVqzQ66+/ruuuu06StHv3bv3+++9ef4/IyEhdfPHFXh9XpG3btvrtt9+0devWElt32rdvr40bN1bqHACqDt1YAEr1xRdf6PDhw7rnnnuUlJTk9ho0aJCrKyslJUULFixQSkqKNm3apJ9//lnTpk1zfU6zZs303Xffac+ePa6wcvXVV+vAgQN67rnntH37dr322mv66quv3M7fokULvffee9q0aZNWr16toUOHVqgVqbJ69Oih7t27a9CgQVq8eLFycnL01VdfKTMzU5I0ceJE/fe//9WYMWO0du1abdu2TZ9//jkDlIEAQdgBUKo333xTvXv3ls1mK/beoEGD9MMPP2j9+vW6+uqr9dFHH2nRokW67LLL1LNnT2VlZbn2nTx5snbs2KGEhAQ1bNhQktSqVSu9/vrreu2119SuXTtlZWXpkUceKXb+w4cPq3379rrzzjs1duxYRUdHV+2XLsXHH3+sTp06aciQIUpMTNRf//pXV2tV27ZttWzZMm3dulVXXXWVLr/8cj355JNuXX8A/MdinNtpDgAAYCK07AAAAFMj7AAAAFMj7AAAAFMj7AAAAFMj7AAAAFMj7AAAAFMj7AAAAFMj7AAAAFMj7AAAAFMj7AAAAFMj7AAAAFMj7AAAAFP7f2WkoJLy/8oRAAAAAElFTkSuQmCC\n"
          },
          "metadata": {}
        }
      ]
    },
    {
      "cell_type": "code",
      "source": [],
      "metadata": {
        "id": "-ksFepy1-sQo"
      },
      "execution_count": null,
      "outputs": []
    },
    {
      "cell_type": "markdown",
      "source": [],
      "metadata": {
        "id": "PJmMLWcd_Pnq"
      }
    }
  ]
}
